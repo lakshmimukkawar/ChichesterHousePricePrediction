{
 "cells": [
  {
   "cell_type": "markdown",
   "metadata": {},
   "source": [
    "## Exploratory Analysis and Visualization of some features on the given dataset "
   ]
  },
  {
   "cell_type": "code",
   "execution_count": 301,
   "metadata": {},
   "outputs": [],
   "source": [
    "import pandas as pd\n",
    "from scipy import stats\n",
    "import numpy as np\n",
    "from scipy import stats\n",
    "import seaborn as sns\n",
    "import matplotlib.pyplot as plt\n",
    "from minepy import MINE\n",
    "\n",
    "%matplotlib inline"
   ]
  },
  {
   "cell_type": "code",
   "execution_count": 3,
   "metadata": {
    "collapsed": true
   },
   "outputs": [],
   "source": [
    "# Read data through CSV\n",
    "path = './chichester-ppd.csv - chichester-ppd.csv'\n",
    "Data = pd.read_csv(path)"
   ]
  },
  {
   "cell_type": "code",
   "execution_count": 4,
   "metadata": {},
   "outputs": [
    {
     "data": {
      "text/html": [
       "<div>\n",
       "<style>\n",
       "    .dataframe thead tr:only-child th {\n",
       "        text-align: right;\n",
       "    }\n",
       "\n",
       "    .dataframe thead th {\n",
       "        text-align: left;\n",
       "    }\n",
       "\n",
       "    .dataframe tbody tr th {\n",
       "        vertical-align: top;\n",
       "    }\n",
       "</style>\n",
       "<table border=\"1\" class=\"dataframe\">\n",
       "  <thead>\n",
       "    <tr style=\"text-align: right;\">\n",
       "      <th></th>\n",
       "      <th>Price</th>\n",
       "      <th>Transfer_Date</th>\n",
       "      <th>Postcode</th>\n",
       "      <th>Property_Type</th>\n",
       "      <th>Old_New</th>\n",
       "      <th>Duration</th>\n",
       "      <th>Primary_Address</th>\n",
       "      <th>Secondary_Address</th>\n",
       "      <th>Street</th>\n",
       "      <th>Locality</th>\n",
       "      <th>Town_City</th>\n",
       "      <th>District</th>\n",
       "      <th>PP_Type</th>\n",
       "    </tr>\n",
       "  </thead>\n",
       "  <tbody>\n",
       "    <tr>\n",
       "      <th>0</th>\n",
       "      <td>48000</td>\n",
       "      <td>20/02/1995</td>\n",
       "      <td>GU29 9TQ</td>\n",
       "      <td>Apartment</td>\n",
       "      <td>Resale</td>\n",
       "      <td>Leasehold</td>\n",
       "      <td>56</td>\n",
       "      <td>NaN</td>\n",
       "      <td>BARLAVINGTON WAY</td>\n",
       "      <td>MIDHURST</td>\n",
       "      <td>MIDHURST</td>\n",
       "      <td>CHICHESTER</td>\n",
       "      <td>A</td>\n",
       "    </tr>\n",
       "    <tr>\n",
       "      <th>1</th>\n",
       "      <td>115000</td>\n",
       "      <td>28/02/1995</td>\n",
       "      <td>PO19 3PY</td>\n",
       "      <td>Apartment</td>\n",
       "      <td>Resale</td>\n",
       "      <td>Leasehold</td>\n",
       "      <td>NORTHLANDS HOUSE</td>\n",
       "      <td>FLAT 5</td>\n",
       "      <td>SALTHILL ROAD</td>\n",
       "      <td>CHICHESTER</td>\n",
       "      <td>CHICHESTER</td>\n",
       "      <td>CHICHESTER</td>\n",
       "      <td>A</td>\n",
       "    </tr>\n",
       "    <tr>\n",
       "      <th>2</th>\n",
       "      <td>102500</td>\n",
       "      <td>28/07/1995</td>\n",
       "      <td>PO20 8PX</td>\n",
       "      <td>Detached</td>\n",
       "      <td>Resale</td>\n",
       "      <td>Freehold</td>\n",
       "      <td>KILMEEN</td>\n",
       "      <td>NaN</td>\n",
       "      <td>BRIAR AVENUE</td>\n",
       "      <td>WEST WITTERING</td>\n",
       "      <td>CHICHESTER</td>\n",
       "      <td>CHICHESTER</td>\n",
       "      <td>A</td>\n",
       "    </tr>\n",
       "    <tr>\n",
       "      <th>3</th>\n",
       "      <td>53000</td>\n",
       "      <td>24/03/1995</td>\n",
       "      <td>PO20 0TD</td>\n",
       "      <td>Terraced</td>\n",
       "      <td>Resale</td>\n",
       "      <td>Freehold</td>\n",
       "      <td>9</td>\n",
       "      <td>NaN</td>\n",
       "      <td>ST GEORGES CLOSE</td>\n",
       "      <td>SELSEY</td>\n",
       "      <td>CHICHESTER</td>\n",
       "      <td>CHICHESTER</td>\n",
       "      <td>A</td>\n",
       "    </tr>\n",
       "    <tr>\n",
       "      <th>4</th>\n",
       "      <td>45000</td>\n",
       "      <td>20/03/1995</td>\n",
       "      <td>PO10 8LZ</td>\n",
       "      <td>Terraced</td>\n",
       "      <td>Resale</td>\n",
       "      <td>Freehold</td>\n",
       "      <td>26</td>\n",
       "      <td>NaN</td>\n",
       "      <td>MANOR WAY</td>\n",
       "      <td>SOUTHBOURNE</td>\n",
       "      <td>EMSWORTH</td>\n",
       "      <td>CHICHESTER</td>\n",
       "      <td>A</td>\n",
       "    </tr>\n",
       "  </tbody>\n",
       "</table>\n",
       "</div>"
      ],
      "text/plain": [
       "    Price Transfer_Date  Postcode Property_Type Old_New   Duration  \\\n",
       "0   48000    20/02/1995  GU29 9TQ     Apartment  Resale  Leasehold   \n",
       "1  115000    28/02/1995  PO19 3PY     Apartment  Resale  Leasehold   \n",
       "2  102500    28/07/1995  PO20 8PX      Detached  Resale   Freehold   \n",
       "3   53000    24/03/1995  PO20 0TD      Terraced  Resale   Freehold   \n",
       "4   45000    20/03/1995  PO10 8LZ      Terraced  Resale   Freehold   \n",
       "\n",
       "    Primary_Address Secondary_Address            Street        Locality  \\\n",
       "0                56               NaN  BARLAVINGTON WAY        MIDHURST   \n",
       "1  NORTHLANDS HOUSE            FLAT 5     SALTHILL ROAD      CHICHESTER   \n",
       "2           KILMEEN               NaN      BRIAR AVENUE  WEST WITTERING   \n",
       "3                 9               NaN  ST GEORGES CLOSE          SELSEY   \n",
       "4                26               NaN         MANOR WAY     SOUTHBOURNE   \n",
       "\n",
       "    Town_City    District PP_Type  \n",
       "0    MIDHURST  CHICHESTER       A  \n",
       "1  CHICHESTER  CHICHESTER       A  \n",
       "2  CHICHESTER  CHICHESTER       A  \n",
       "3  CHICHESTER  CHICHESTER       A  \n",
       "4    EMSWORTH  CHICHESTER       A  "
      ]
     },
     "execution_count": 4,
     "metadata": {},
     "output_type": "execute_result"
    }
   ],
   "source": [
    "# checking the first 5 rows of the given dataset\n",
    "Data.head()"
   ]
  },
  {
   "cell_type": "code",
   "execution_count": 5,
   "metadata": {},
   "outputs": [
    {
     "data": {
      "text/html": [
       "<div>\n",
       "<style>\n",
       "    .dataframe thead tr:only-child th {\n",
       "        text-align: right;\n",
       "    }\n",
       "\n",
       "    .dataframe thead th {\n",
       "        text-align: left;\n",
       "    }\n",
       "\n",
       "    .dataframe tbody tr th {\n",
       "        vertical-align: top;\n",
       "    }\n",
       "</style>\n",
       "<table border=\"1\" class=\"dataframe\">\n",
       "  <thead>\n",
       "    <tr style=\"text-align: right;\">\n",
       "      <th></th>\n",
       "      <th>Price</th>\n",
       "      <th>Transfer_Date</th>\n",
       "      <th>Postcode</th>\n",
       "      <th>Property_Type</th>\n",
       "      <th>Old_New</th>\n",
       "      <th>Duration</th>\n",
       "      <th>Primary_Address</th>\n",
       "      <th>Secondary_Address</th>\n",
       "      <th>Street</th>\n",
       "      <th>Locality</th>\n",
       "      <th>Town_City</th>\n",
       "      <th>District</th>\n",
       "      <th>PP_Type</th>\n",
       "    </tr>\n",
       "  </thead>\n",
       "  <tbody>\n",
       "    <tr>\n",
       "      <th>52954</th>\n",
       "      <td>382500</td>\n",
       "      <td>09/01/2018</td>\n",
       "      <td>GU27 3EL</td>\n",
       "      <td>Terraced</td>\n",
       "      <td>Resale</td>\n",
       "      <td>Freehold</td>\n",
       "      <td>6</td>\n",
       "      <td>NaN</td>\n",
       "      <td>THE CYLINDERS</td>\n",
       "      <td>FERNHURST</td>\n",
       "      <td>HASLEMERE</td>\n",
       "      <td>CHICHESTER</td>\n",
       "      <td>A</td>\n",
       "    </tr>\n",
       "    <tr>\n",
       "      <th>52955</th>\n",
       "      <td>191500</td>\n",
       "      <td>12/01/2018</td>\n",
       "      <td>PO20 8RJ</td>\n",
       "      <td>Apartment</td>\n",
       "      <td>Resale</td>\n",
       "      <td>Leasehold</td>\n",
       "      <td>47</td>\n",
       "      <td>NaN</td>\n",
       "      <td>WINDMILL COURT</td>\n",
       "      <td>EAST WITTERING</td>\n",
       "      <td>CHICHESTER</td>\n",
       "      <td>CHICHESTER</td>\n",
       "      <td>A</td>\n",
       "    </tr>\n",
       "    <tr>\n",
       "      <th>52956</th>\n",
       "      <td>310000</td>\n",
       "      <td>12/01/2018</td>\n",
       "      <td>PO10 8AG</td>\n",
       "      <td>Terraced</td>\n",
       "      <td>Resale</td>\n",
       "      <td>Freehold</td>\n",
       "      <td>11</td>\n",
       "      <td>NaN</td>\n",
       "      <td>LUMLEY GARDENS</td>\n",
       "      <td>NaN</td>\n",
       "      <td>EMSWORTH</td>\n",
       "      <td>CHICHESTER</td>\n",
       "      <td>A</td>\n",
       "    </tr>\n",
       "    <tr>\n",
       "      <th>52957</th>\n",
       "      <td>2051000</td>\n",
       "      <td>19/01/2018</td>\n",
       "      <td>PO20 8HH</td>\n",
       "      <td>Detached</td>\n",
       "      <td>Resale</td>\n",
       "      <td>Freehold</td>\n",
       "      <td>1</td>\n",
       "      <td>NaN</td>\n",
       "      <td>MARINE DRIVE WEST</td>\n",
       "      <td>WEST WITTERING</td>\n",
       "      <td>CHICHESTER</td>\n",
       "      <td>CHICHESTER</td>\n",
       "      <td>A</td>\n",
       "    </tr>\n",
       "    <tr>\n",
       "      <th>52958</th>\n",
       "      <td>348000</td>\n",
       "      <td>11/01/2018</td>\n",
       "      <td>PO19 7UX</td>\n",
       "      <td>Terraced</td>\n",
       "      <td>Resale</td>\n",
       "      <td>Freehold</td>\n",
       "      <td>9</td>\n",
       "      <td>NaN</td>\n",
       "      <td>ORMONDE AVENUE</td>\n",
       "      <td>NaN</td>\n",
       "      <td>CHICHESTER</td>\n",
       "      <td>CHICHESTER</td>\n",
       "      <td>A</td>\n",
       "    </tr>\n",
       "  </tbody>\n",
       "</table>\n",
       "</div>"
      ],
      "text/plain": [
       "         Price Transfer_Date  Postcode Property_Type Old_New   Duration  \\\n",
       "52954   382500    09/01/2018  GU27 3EL      Terraced  Resale   Freehold   \n",
       "52955   191500    12/01/2018  PO20 8RJ     Apartment  Resale  Leasehold   \n",
       "52956   310000    12/01/2018  PO10 8AG      Terraced  Resale   Freehold   \n",
       "52957  2051000    19/01/2018  PO20 8HH      Detached  Resale   Freehold   \n",
       "52958   348000    11/01/2018  PO19 7UX      Terraced  Resale   Freehold   \n",
       "\n",
       "      Primary_Address Secondary_Address             Street        Locality  \\\n",
       "52954               6               NaN      THE CYLINDERS       FERNHURST   \n",
       "52955              47               NaN     WINDMILL COURT  EAST WITTERING   \n",
       "52956              11               NaN     LUMLEY GARDENS             NaN   \n",
       "52957               1               NaN  MARINE DRIVE WEST  WEST WITTERING   \n",
       "52958               9               NaN     ORMONDE AVENUE             NaN   \n",
       "\n",
       "        Town_City    District PP_Type  \n",
       "52954   HASLEMERE  CHICHESTER       A  \n",
       "52955  CHICHESTER  CHICHESTER       A  \n",
       "52956    EMSWORTH  CHICHESTER       A  \n",
       "52957  CHICHESTER  CHICHESTER       A  \n",
       "52958  CHICHESTER  CHICHESTER       A  "
      ]
     },
     "execution_count": 5,
     "metadata": {},
     "output_type": "execute_result"
    }
   ],
   "source": [
    "# checking the last 5 rows of the given dataset\n",
    "Data.tail()"
   ]
  },
  {
   "cell_type": "code",
   "execution_count": 6,
   "metadata": {},
   "outputs": [
    {
     "name": "stdout",
     "output_type": "stream",
     "text": [
      "('Shape of dataset=>', (52959, 13))\n"
     ]
    }
   ],
   "source": [
    "# size/dimensions of the dataframe\n",
    "print(\"Shape of dataset=>\", Data.shape)"
   ]
  },
  {
   "cell_type": "markdown",
   "metadata": {},
   "source": [
    "** Now we know that there are 52959 rows and 13 columns in the dataset **"
   ]
  },
  {
   "cell_type": "code",
   "execution_count": 7,
   "metadata": {},
   "outputs": [
    {
     "name": "stdout",
     "output_type": "stream",
     "text": [
      "<class 'pandas.core.frame.DataFrame'>\n",
      "RangeIndex: 52959 entries, 0 to 52958\n",
      "Data columns (total 13 columns):\n",
      "Price                52959 non-null int64\n",
      "Transfer_Date        52959 non-null object\n",
      "Postcode             52901 non-null object\n",
      "Property_Type        52959 non-null object\n",
      "Old_New              52959 non-null object\n",
      "Duration             52959 non-null object\n",
      "Primary_Address      52959 non-null object\n",
      "Secondary_Address    6260 non-null object\n",
      "Street               50464 non-null object\n",
      "Locality             41193 non-null object\n",
      "Town_City            52959 non-null object\n",
      "District             52959 non-null object\n",
      "PP_Type              52959 non-null object\n",
      "dtypes: int64(1), object(12)\n",
      "memory usage: 5.3+ MB\n"
     ]
    }
   ],
   "source": [
    "# printing concise summary of the Data\n",
    "Data.info()"
   ]
  },
  {
   "cell_type": "code",
   "execution_count": 191,
   "metadata": {},
   "outputs": [
    {
     "data": {
      "text/html": [
       "<div>\n",
       "<style>\n",
       "    .dataframe thead tr:only-child th {\n",
       "        text-align: right;\n",
       "    }\n",
       "\n",
       "    .dataframe thead th {\n",
       "        text-align: left;\n",
       "    }\n",
       "\n",
       "    .dataframe tbody tr th {\n",
       "        vertical-align: top;\n",
       "    }\n",
       "</style>\n",
       "<table border=\"1\" class=\"dataframe\">\n",
       "  <thead>\n",
       "    <tr style=\"text-align: right;\">\n",
       "      <th></th>\n",
       "      <th>Total</th>\n",
       "      <th>Percent</th>\n",
       "    </tr>\n",
       "  </thead>\n",
       "  <tbody>\n",
       "    <tr>\n",
       "      <th>District</th>\n",
       "      <td>0</td>\n",
       "      <td>0.000000</td>\n",
       "    </tr>\n",
       "    <tr>\n",
       "      <th>Duration</th>\n",
       "      <td>0</td>\n",
       "      <td>0.000000</td>\n",
       "    </tr>\n",
       "    <tr>\n",
       "      <th>Locality</th>\n",
       "      <td>11766</td>\n",
       "      <td>0.222172</td>\n",
       "    </tr>\n",
       "    <tr>\n",
       "      <th>Old_New</th>\n",
       "      <td>0</td>\n",
       "      <td>0.000000</td>\n",
       "    </tr>\n",
       "    <tr>\n",
       "      <th>PP_Type</th>\n",
       "      <td>0</td>\n",
       "      <td>0.000000</td>\n",
       "    </tr>\n",
       "    <tr>\n",
       "      <th>Postcode</th>\n",
       "      <td>58</td>\n",
       "      <td>0.001095</td>\n",
       "    </tr>\n",
       "    <tr>\n",
       "      <th>Price</th>\n",
       "      <td>0</td>\n",
       "      <td>0.000000</td>\n",
       "    </tr>\n",
       "    <tr>\n",
       "      <th>Primary_Address</th>\n",
       "      <td>0</td>\n",
       "      <td>0.000000</td>\n",
       "    </tr>\n",
       "    <tr>\n",
       "      <th>Property_Type</th>\n",
       "      <td>0</td>\n",
       "      <td>0.000000</td>\n",
       "    </tr>\n",
       "    <tr>\n",
       "      <th>Secondary_Address</th>\n",
       "      <td>46699</td>\n",
       "      <td>0.881795</td>\n",
       "    </tr>\n",
       "    <tr>\n",
       "      <th>Street</th>\n",
       "      <td>2495</td>\n",
       "      <td>0.047112</td>\n",
       "    </tr>\n",
       "    <tr>\n",
       "      <th>Town_City</th>\n",
       "      <td>0</td>\n",
       "      <td>0.000000</td>\n",
       "    </tr>\n",
       "    <tr>\n",
       "      <th>Transfer_Date</th>\n",
       "      <td>0</td>\n",
       "      <td>0.000000</td>\n",
       "    </tr>\n",
       "    <tr>\n",
       "      <th>transfer_year</th>\n",
       "      <td>0</td>\n",
       "      <td>0.000000</td>\n",
       "    </tr>\n",
       "  </tbody>\n",
       "</table>\n",
       "</div>"
      ],
      "text/plain": [
       "                   Total   Percent\n",
       "District               0  0.000000\n",
       "Duration               0  0.000000\n",
       "Locality           11766  0.222172\n",
       "Old_New                0  0.000000\n",
       "PP_Type                0  0.000000\n",
       "Postcode              58  0.001095\n",
       "Price                  0  0.000000\n",
       "Primary_Address        0  0.000000\n",
       "Property_Type          0  0.000000\n",
       "Secondary_Address  46699  0.881795\n",
       "Street              2495  0.047112\n",
       "Town_City              0  0.000000\n",
       "Transfer_Date          0  0.000000\n",
       "transfer_year          0  0.000000"
      ]
     },
     "execution_count": 191,
     "metadata": {},
     "output_type": "execute_result"
    }
   ],
   "source": [
    "# Missing data calculation\n",
    "Total = Data.isnull().sum()\n",
    "percent = (Data.isnull().sum()/Data.isnull().count())\n",
    "missing_values = pd.concat([total, percent], axis=1, keys=['Total', 'Percent'])\n",
    "missing_values"
   ]
  },
  {
   "cell_type": "markdown",
   "metadata": {},
   "source": [
    "** From above we understand that the \"Secondary_Address\" columns has many missing values(46699), so this feature will not be relevant for predicting price of a house ** "
   ]
  },
  {
   "cell_type": "code",
   "execution_count": 8,
   "metadata": {},
   "outputs": [
    {
     "name": "stdout",
     "output_type": "stream",
     "text": [
      "('Number of columns => ', 13)\n"
     ]
    },
    {
     "data": {
      "text/plain": [
       "Index([u'Price', u'Transfer_Date', u'Postcode', u'Property_Type', u'Old_New',\n",
       "       u'Duration', u'Primary_Address', u'Secondary_Address', u'Street',\n",
       "       u'Locality', u'Town_City', u'District', u'PP_Type'],\n",
       "      dtype='object')"
      ]
     },
     "execution_count": 8,
     "metadata": {},
     "output_type": "execute_result"
    }
   ],
   "source": [
    "# Number of columns and list of all columns\n",
    "print('Number of columns => ', len(Data.columns))\n",
    "Data.columns\n"
   ]
  },
  {
   "cell_type": "code",
   "execution_count": 9,
   "metadata": {},
   "outputs": [
    {
     "name": "stdout",
     "output_type": "stream",
     "text": [
      "count    5.295900e+04\n",
      "mean     2.762521e+05\n",
      "std      3.252215e+05\n",
      "min      1.000000e+00\n",
      "25%      1.280000e+05\n",
      "50%      2.150000e+05\n",
      "75%      3.250000e+05\n",
      "max      3.234000e+07\n",
      "Name: Price, dtype: float64\n"
     ]
    }
   ],
   "source": [
    "# Let's check how the housing price is distributed\n",
    "print(Data['Price'].describe())"
   ]
  },
  {
   "cell_type": "code",
   "execution_count": 126,
   "metadata": {},
   "outputs": [
    {
     "data": {
      "text/plain": [
       "Text(0.5,1,u'House price distribution')"
      ]
     },
     "execution_count": 126,
     "metadata": {},
     "output_type": "execute_result"
    },
    {
     "data": {
      "image/png": "[encoded data removed]",
      "text/plain": [
       "<matplotlib.figure.Figure at 0x25a516a0>"
      ]
     },
     "metadata": {},
     "output_type": "display_data"
    }
   ],
   "source": [
    "plt.figure(figsize=(25, 13))\n",
    "sns.distplot(Data['Price'], bins = 100)\n",
    "plt.title('House price distribution')\n",
    "# plt.xlim(0,2000000)\n"
   ]
  },
  {
   "cell_type": "markdown",
   "metadata": {},
   "source": [
    "** this distribution of price is Right skewed. As mean is greater than mode and median. when the distribution is skewed best way to tell about the central tendancy is Median.**"
   ]
  },
  {
   "cell_type": "code",
   "execution_count": 120,
   "metadata": {},
   "outputs": [
    {
     "name": "stdout",
     "output_type": "stream",
     "text": [
      "('Mean', 276252.09756604163)\n",
      "('Median', 215000.0)\n",
      "('Mode', ModeResult(mode=array([250000], dtype=int64), count=array([939])))\n"
     ]
    }
   ],
   "source": [
    "print('Mean', np.mean(Data['Price']))\n",
    "print('Median', np.median(Data['Price']))   \n",
    "print('Mode', stats.mode(Data['Price']))"
   ]
  },
  {
   "cell_type": "code",
   "execution_count": 136,
   "metadata": {},
   "outputs": [
    {
     "name": "stdout",
     "output_type": "stream",
     "text": [
      "Skewness: 27.553974\n",
      "Kurtosis: 2124.356269\n"
     ]
    }
   ],
   "source": [
    "# skewness and Kurtosis \n",
    "print(\"Skewness: %f\" % Data['Price'].skew())\n",
    "print(\"Kurtosis: %f\" % Data['Price'].kurt())"
   ]
  },
  {
   "cell_type": "code",
   "execution_count": 12,
   "metadata": {},
   "outputs": [
    {
     "data": {
      "text/plain": [
       "A    51970\n",
       "B      989\n",
       "Name: PP_Type, dtype: int64"
      ]
     },
     "execution_count": 12,
     "metadata": {},
     "output_type": "execute_result"
    }
   ],
   "source": [
    "# check for count of each type for feature PP_Type\n",
    "Data['PP_Type'].value_counts()"
   ]
  },
  {
   "cell_type": "code",
   "execution_count": 13,
   "metadata": {},
   "outputs": [
    {
     "data": {
      "text/plain": [
       "CHICHESTER    52959\n",
       "Name: District, dtype: int64"
      ]
     },
     "execution_count": 13,
     "metadata": {},
     "output_type": "execute_result"
    }
   ],
   "source": [
    "# check for count of each type for feature District\n",
    "Data['District'].value_counts()"
   ]
  },
  {
   "cell_type": "code",
   "execution_count": 14,
   "metadata": {},
   "outputs": [
    {
     "data": {
      "text/plain": [
       "CHICHESTER          36228\n",
       "MIDHURST             4315\n",
       "EMSWORTH             3354\n",
       "PETWORTH             2358\n",
       "BILLINGSHURST        2250\n",
       "HASLEMERE            2234\n",
       "PETERSFIELD           840\n",
       "PULBOROUGH            742\n",
       "LIPHOOK               252\n",
       "LISS                  207\n",
       "ROWLAND'S CASTLE       84\n",
       "GODALMING              45\n",
       "BOGNOR REGIS           11\n",
       "CRAWLEY                10\n",
       "WORTHING                6\n",
       "ARUNDEL                 4\n",
       "HORSHAM                 4\n",
       "EAST GRINSTEAD          3\n",
       "LITTLEHAMPTON           3\n",
       "EASTBOURNE              1\n",
       "CRANLEIGH               1\n",
       "EASTLEIGH               1\n",
       "SHOREHAM-BY-SEA         1\n",
       "HENFIELD                1\n",
       "BRIGHTON                1\n",
       "LANCING                 1\n",
       "HINDHEAD                1\n",
       "HASSOCKS                1\n",
       "Name: Town_City, dtype: int64"
      ]
     },
     "execution_count": 14,
     "metadata": {},
     "output_type": "execute_result"
    }
   ],
   "source": [
    "# check for count of each type for feature Town_City\n",
    "Data['Town_City'].value_counts()"
   ]
  },
  {
   "cell_type": "code",
   "execution_count": 15,
   "metadata": {},
   "outputs": [
    {
     "data": {
      "text/plain": [
       "CHICHESTER             7801\n",
       "SELSEY                 6732\n",
       "WEST WITTERING         1689\n",
       "BRACKLESHAM BAY        1601\n",
       "BOSHAM                 1452\n",
       "MIDHURST               1411\n",
       "TANGMERE               1410\n",
       "EAST WITTERING         1319\n",
       "EMSWORTH               1270\n",
       "FERNHURST               820\n",
       "HASLEMERE               693\n",
       "BIRDHAM                 671\n",
       "LOXWOOD                 645\n",
       "WISBOROUGH GREEN        563\n",
       "HAMBROOK                540\n",
       "EASEBOURNE              534\n",
       "PETWORTH                511\n",
       "IFOLD                   481\n",
       "SOUTHBOURNE             479\n",
       "HUNSTON                 441\n",
       "LAVANT                  387\n",
       "FITTLEWORTH             382\n",
       "FISHBOURNE              381\n",
       "KIRDFORD                347\n",
       "WESTBOURNE              333\n",
       "BOXGROVE                314\n",
       "NUTBOURNE               302\n",
       "ROGATE                  298\n",
       "WESTHAMPNETT            297\n",
       "SIDLESHAM               276\n",
       "                       ... \n",
       "NETHER STREET             2\n",
       "BARNHAM                   2\n",
       "LEAHURST COURT ROAD       1\n",
       "HASSOCKS                  1\n",
       "HENFIELD                  1\n",
       "HORSHAM                   1\n",
       "LORDINGTON                1\n",
       "PORTSLADE                 1\n",
       "MIDDLETON ON SEA          1\n",
       "GREENMOUNT LANE           1\n",
       "MAIN STREET               1\n",
       "TORRINGTON PARK           1\n",
       "IFIELD                    1\n",
       "COLD HANWORTH             1\n",
       "GORING BY SEA             1\n",
       "EASTLEIGH                 1\n",
       "YAPTON                    1\n",
       "MINLEY ROAD               1\n",
       "ST MARGARETS PLACE        1\n",
       "LANCING                   1\n",
       "HOOKSWAY                  1\n",
       "SHOREHAM-BY-SEA           1\n",
       "ALFOLD                    1\n",
       "GRAYSHOTT                 1\n",
       "HENRIETTA ROAD            1\n",
       "BRACKLESHAM               1\n",
       "CAMELSDALE                1\n",
       "BARLAVINGTON              1\n",
       "STANSTED                  1\n",
       "LITTLEHAMPTON             1\n",
       "Name: Locality, Length: 197, dtype: int64"
      ]
     },
     "execution_count": 15,
     "metadata": {},
     "output_type": "execute_result"
    }
   ],
   "source": [
    "# check for count of each type for feature Locality\n",
    "Data['Locality'].value_counts()"
   ]
  },
  {
   "cell_type": "code",
   "execution_count": 16,
   "metadata": {},
   "outputs": [
    {
     "data": {
      "text/plain": [
       "Freehold     43756\n",
       "Leasehold     9203\n",
       "Name: Duration, dtype: int64"
      ]
     },
     "execution_count": 16,
     "metadata": {},
     "output_type": "execute_result"
    }
   ],
   "source": [
    "# check for count of each type for feature Duration\n",
    "Data['Duration'].value_counts()"
   ]
  },
  {
   "cell_type": "code",
   "execution_count": 17,
   "metadata": {},
   "outputs": [
    {
     "data": {
      "text/plain": [
       "Detached         19748\n",
       "Semi-Detached    12363\n",
       "Terraced         11797\n",
       "Apartment         8550\n",
       "Other              501\n",
       "Name: Property_Type, dtype: int64"
      ]
     },
     "execution_count": 17,
     "metadata": {},
     "output_type": "execute_result"
    }
   ],
   "source": [
    "# check for count of each type for feature Property_Type\n",
    "Data['Property_Type'].value_counts()"
   ]
  },
  {
   "cell_type": "code",
   "execution_count": 18,
   "metadata": {},
   "outputs": [],
   "source": [
    "postcode_Val = pd.DataFrame(Data['Postcode'].value_counts())"
   ]
  },
  {
   "cell_type": "code",
   "execution_count": 19,
   "metadata": {},
   "outputs": [
    {
     "data": {
      "text/plain": [
       "(3691, 1)"
      ]
     },
     "execution_count": 19,
     "metadata": {},
     "output_type": "execute_result"
    }
   ],
   "source": [
    "postcode_Val.shape"
   ]
  },
  {
   "cell_type": "code",
   "execution_count": 20,
   "metadata": {},
   "outputs": [
    {
     "data": {
      "text/plain": [
       "Resale       47652\n",
       "New Build     5307\n",
       "Name: Old_New, dtype: int64"
      ]
     },
     "execution_count": 20,
     "metadata": {},
     "output_type": "execute_result"
    }
   ],
   "source": [
    "# check for count of each type for feature Old_New\n",
    "Data['Old_New'].value_counts()"
   ]
  },
  {
   "cell_type": "markdown",
   "metadata": {},
   "source": [
    "** Countplots for the given features ** "
   ]
  },
  {
   "cell_type": "code",
   "execution_count": 50,
   "metadata": {},
   "outputs": [],
   "source": [
    "def countPlot(Data):\n",
    "    \n",
    "    \"\"\"Input is DataFrame.\n",
    "       sns.countplot() plots count plot with parameters like alpha(Transparency of the image), Rotation(rotates the labels), etc.\n",
    "       Output is count plots of the categorical features.\"\"\"\n",
    "    \n",
    "    temporary_data = Data[['Property_Type', 'Old_New', 'Town_City', 'PP_Type', 'Duration', 'Postcode']]\n",
    "    fig, axes = plt.subplots(int(round(len(temporary_data.columns) / 2)), 2, figsize=(12, 10))\n",
    "    for i, ax in enumerate(fig.axes):\n",
    "        if i < len(temporary_data.columns):\n",
    "            ax.set_xticklabels(ax.xaxis.get_majorticklabels(), rotation=90)\n",
    "            sns.countplot(x=temporary_data.columns[i], alpha=0.7, data=temporary_data, ax=ax)\n",
    "\n",
    "    fig.tight_layout()\n",
    "    fig.savefig('figure.png')"
   ]
  },
  {
   "cell_type": "code",
   "execution_count": 51,
   "metadata": {},
   "outputs": [
    {
     "data": {
      "image/png": "[encoded data removed]",
      "text/plain": [
       "<matplotlib.figure.Figure at 0x3019a908>"
      ]
     },
     "metadata": {},
     "output_type": "display_data"
    }
   ],
   "source": [
    "countPlot(Data)"
   ]
  },
  {
   "cell_type": "markdown",
   "metadata": {},
   "source": [
    "** We see that  category like PP_Type has most of the type A. This may not be relevant for prediction. Postcode feature has lots of categories which can be modified further to include into the prediciton **"
   ]
  },
  {
   "cell_type": "code",
   "execution_count": 306,
   "metadata": {},
   "outputs": [
    {
     "data": {
      "image/png": "[encoded data removed]",
      "text/plain": [
       "<matplotlib.figure.Figure at 0x14f9c828>"
      ]
     },
     "metadata": {},
     "output_type": "display_data"
    }
   ],
   "source": [
    "plt.figure(figsize = (20, 10))\n",
    "\n",
    "ax = sns.boxplot(x='Property_Type', y='Price', data=Data)\n",
    "plt.setp(ax.artists, alpha=.7, linewidth=2, edgecolor=\"k\")\n",
    "plt.xticks(rotation=45)\n",
    "plt.ylim(0, 500000)\n",
    "plt.savefig('Boxplot_property_type_not_zoomed.png')"
   ]
  },
  {
   "cell_type": "markdown",
   "metadata": {},
   "source": [
    "** Boxplot is good to visualize the distribution of the data and for categorical data. Other type of the Property type his spreaded alot and it has lot of outliers.\n",
    "For boxplot middle line of the box shows the median value. In comparison to other three values 'Other' and 'Detached' type of property type are more dispered. ** \n"
   ]
  },
  {
   "cell_type": "code",
   "execution_count": 307,
   "metadata": {
    "scrolled": true
   },
   "outputs": [
    {
     "data": {
      "image/png": "[encoded data removed]",
      "text/plain": [
       "<matplotlib.figure.Figure at 0x241dd1d0>"
      ]
     },
     "metadata": {},
     "output_type": "display_data"
    }
   ],
   "source": [
    "plt.figure(figsize = (20, 10))\n",
    "\n",
    "ax = sns.boxplot(x='Old_New', y='Price', data=Data)\n",
    "plt.setp(ax.artists, alpha=.7, linewidth=2, edgecolor=\"k\")\n",
    "plt.xticks(rotation=45)\n",
    "plt.ylim(0, 1000000)\n",
    "plt.savefig('Boxplot_Old_New_not_zoomed.png')"
   ]
  },
  {
   "cell_type": "code",
   "execution_count": 128,
   "metadata": {},
   "outputs": [
    {
     "name": "stdout",
     "output_type": "stream",
     "text": [
      "('New build houses', (5307, 13))\n",
      "('New build houses with price > 215000.0', (2815, 13))\n",
      "('Resale houses', (47652, 13))\n",
      "('Resale houses with price > 215000.0', (23270, 13))\n"
     ]
    }
   ],
   "source": [
    "# House price of New Build and Resale above the 215000\n",
    "new_Build = Data[Data.Old_New == 'New Build']\n",
    "print('New build houses', new_Build.shape)\n",
    "print('New build houses with price > 215000.0', new_Build[new_Build.Price > 215000.0].shape)\n",
    "resale = Data[Data.Old_New == 'Resale']\n",
    "print('Resale houses', resale.shape)\n",
    "print('Resale houses with price > 215000.0', resale[resale.Price > 215000.0].shape)"
   ]
  },
  {
   "cell_type": "markdown",
   "metadata": {},
   "source": [
    "** In old_New feature there are Resale = 47652 and New Build = 5307 records. From that Records we see that there are lots of houses which are under resale type and very few are new built from the given data. As well as there are many houses which are on freehold. **"
   ]
  },
  {
   "cell_type": "code",
   "execution_count": 154,
   "metadata": {
    "collapsed": true
   },
   "outputs": [],
   "source": [
    "# checking how house prices changes year wise\n",
    "# For that we are extracting the year from the given transfer date and creating new feature called transfer year"
   ]
  },
  {
   "cell_type": "code",
   "execution_count": 303,
   "metadata": {},
   "outputs": [],
   "source": [
    "def extract_year(date):\n",
    "    return int(date.split('/')[2])\n",
    "\n",
    "Data['transfer_year'] = Data['Transfer_Date'].apply(lambda date : extract_year(date))\n",
    "\n",
    "\n",
    "def extract_month(date):\n",
    "    return int(date.split('/')[1])\n",
    "\n",
    "Data['transfer_month'] = Data['Transfer_Date'].apply(lambda date : extract_month(date))"
   ]
  },
  {
   "cell_type": "code",
   "execution_count": 304,
   "metadata": {},
   "outputs": [
    {
     "data": {
      "text/plain": [
       "<matplotlib.axes._subplots.AxesSubplot at 0x2f86e2b0>"
      ]
     },
     "execution_count": 304,
     "metadata": {},
     "output_type": "execute_result"
    },
    {
     "data": {
      "image/png": "[encoded data removed]",
      "text/plain": [
       "<matplotlib.figure.Figure at 0x15ba7278>"
      ]
     },
     "metadata": {},
     "output_type": "display_data"
    }
   ],
   "source": [
    "sns.countplot(x=Data['transfer_month'], alpha=0.7, data=Data)"
   ]
  },
  {
   "cell_type": "markdown",
   "metadata": {},
   "source": [
    "** From above countplot we see that markets are the most active in June, July, August months. **"
   ]
  },
  {
   "cell_type": "code",
   "execution_count": 302,
   "metadata": {},
   "outputs": [
    {
     "data": {
      "text/html": [
       "<div>\n",
       "<style>\n",
       "    .dataframe thead tr:only-child th {\n",
       "        text-align: right;\n",
       "    }\n",
       "\n",
       "    .dataframe thead th {\n",
       "        text-align: left;\n",
       "    }\n",
       "\n",
       "    .dataframe tbody tr th {\n",
       "        vertical-align: top;\n",
       "    }\n",
       "</style>\n",
       "<table border=\"1\" class=\"dataframe\">\n",
       "  <thead>\n",
       "    <tr style=\"text-align: right;\">\n",
       "      <th></th>\n",
       "      <th>Price</th>\n",
       "      <th>Transfer_Date</th>\n",
       "      <th>Postcode</th>\n",
       "      <th>Property_Type</th>\n",
       "      <th>Old_New</th>\n",
       "      <th>Duration</th>\n",
       "      <th>Primary_Address</th>\n",
       "      <th>Secondary_Address</th>\n",
       "      <th>Street</th>\n",
       "      <th>Locality</th>\n",
       "      <th>Town_City</th>\n",
       "      <th>District</th>\n",
       "      <th>PP_Type</th>\n",
       "      <th>transfer_year</th>\n",
       "      <th>transfer_month</th>\n",
       "      <th>postcode_mod</th>\n",
       "      <th>postcode_mod1</th>\n",
       "      <th>postcode_two_char</th>\n",
       "      <th>postcode_four_char</th>\n",
       "    </tr>\n",
       "  </thead>\n",
       "  <tbody>\n",
       "    <tr>\n",
       "      <th>0</th>\n",
       "      <td>48000</td>\n",
       "      <td>20/02/1995</td>\n",
       "      <td>GU29 9TQ</td>\n",
       "      <td>Apartment</td>\n",
       "      <td>Resale</td>\n",
       "      <td>Leasehold</td>\n",
       "      <td>56</td>\n",
       "      <td>NaN</td>\n",
       "      <td>BARLAVINGTON WAY</td>\n",
       "      <td>MIDHURST</td>\n",
       "      <td>MIDHURST</td>\n",
       "      <td>CHICHESTER</td>\n",
       "      <td>A</td>\n",
       "      <td>1995</td>\n",
       "      <td>2</td>\n",
       "      <td>GU</td>\n",
       "      <td>GU29</td>\n",
       "      <td>GU</td>\n",
       "      <td>GU29</td>\n",
       "    </tr>\n",
       "    <tr>\n",
       "      <th>1</th>\n",
       "      <td>115000</td>\n",
       "      <td>28/02/1995</td>\n",
       "      <td>PO19 3PY</td>\n",
       "      <td>Apartment</td>\n",
       "      <td>Resale</td>\n",
       "      <td>Leasehold</td>\n",
       "      <td>NORTHLANDS HOUSE</td>\n",
       "      <td>FLAT 5</td>\n",
       "      <td>SALTHILL ROAD</td>\n",
       "      <td>CHICHESTER</td>\n",
       "      <td>CHICHESTER</td>\n",
       "      <td>CHICHESTER</td>\n",
       "      <td>A</td>\n",
       "      <td>1995</td>\n",
       "      <td>2</td>\n",
       "      <td>PO</td>\n",
       "      <td>PO19</td>\n",
       "      <td>PO</td>\n",
       "      <td>PO19</td>\n",
       "    </tr>\n",
       "    <tr>\n",
       "      <th>2</th>\n",
       "      <td>102500</td>\n",
       "      <td>28/07/1995</td>\n",
       "      <td>PO20 8PX</td>\n",
       "      <td>Detached</td>\n",
       "      <td>Resale</td>\n",
       "      <td>Freehold</td>\n",
       "      <td>KILMEEN</td>\n",
       "      <td>NaN</td>\n",
       "      <td>BRIAR AVENUE</td>\n",
       "      <td>WEST WITTERING</td>\n",
       "      <td>CHICHESTER</td>\n",
       "      <td>CHICHESTER</td>\n",
       "      <td>A</td>\n",
       "      <td>1995</td>\n",
       "      <td>7</td>\n",
       "      <td>PO</td>\n",
       "      <td>PO20</td>\n",
       "      <td>PO</td>\n",
       "      <td>PO20</td>\n",
       "    </tr>\n",
       "    <tr>\n",
       "      <th>3</th>\n",
       "      <td>53000</td>\n",
       "      <td>24/03/1995</td>\n",
       "      <td>PO20 0TD</td>\n",
       "      <td>Terraced</td>\n",
       "      <td>Resale</td>\n",
       "      <td>Freehold</td>\n",
       "      <td>9</td>\n",
       "      <td>NaN</td>\n",
       "      <td>ST GEORGES CLOSE</td>\n",
       "      <td>SELSEY</td>\n",
       "      <td>CHICHESTER</td>\n",
       "      <td>CHICHESTER</td>\n",
       "      <td>A</td>\n",
       "      <td>1995</td>\n",
       "      <td>3</td>\n",
       "      <td>PO</td>\n",
       "      <td>PO20</td>\n",
       "      <td>PO</td>\n",
       "      <td>PO20</td>\n",
       "    </tr>\n",
       "    <tr>\n",
       "      <th>4</th>\n",
       "      <td>45000</td>\n",
       "      <td>20/03/1995</td>\n",
       "      <td>PO10 8LZ</td>\n",
       "      <td>Terraced</td>\n",
       "      <td>Resale</td>\n",
       "      <td>Freehold</td>\n",
       "      <td>26</td>\n",
       "      <td>NaN</td>\n",
       "      <td>MANOR WAY</td>\n",
       "      <td>SOUTHBOURNE</td>\n",
       "      <td>EMSWORTH</td>\n",
       "      <td>CHICHESTER</td>\n",
       "      <td>A</td>\n",
       "      <td>1995</td>\n",
       "      <td>3</td>\n",
       "      <td>PO</td>\n",
       "      <td>PO10</td>\n",
       "      <td>PO</td>\n",
       "      <td>PO10</td>\n",
       "    </tr>\n",
       "  </tbody>\n",
       "</table>\n",
       "</div>"
      ],
      "text/plain": [
       "    Price Transfer_Date  Postcode Property_Type Old_New   Duration  \\\n",
       "0   48000    20/02/1995  GU29 9TQ     Apartment  Resale  Leasehold   \n",
       "1  115000    28/02/1995  PO19 3PY     Apartment  Resale  Leasehold   \n",
       "2  102500    28/07/1995  PO20 8PX      Detached  Resale   Freehold   \n",
       "3   53000    24/03/1995  PO20 0TD      Terraced  Resale   Freehold   \n",
       "4   45000    20/03/1995  PO10 8LZ      Terraced  Resale   Freehold   \n",
       "\n",
       "    Primary_Address Secondary_Address            Street        Locality  \\\n",
       "0                56               NaN  BARLAVINGTON WAY        MIDHURST   \n",
       "1  NORTHLANDS HOUSE            FLAT 5     SALTHILL ROAD      CHICHESTER   \n",
       "2           KILMEEN               NaN      BRIAR AVENUE  WEST WITTERING   \n",
       "3                 9               NaN  ST GEORGES CLOSE          SELSEY   \n",
       "4                26               NaN         MANOR WAY     SOUTHBOURNE   \n",
       "\n",
       "    Town_City    District PP_Type  transfer_year  transfer_month postcode_mod  \\\n",
       "0    MIDHURST  CHICHESTER       A           1995               2           GU   \n",
       "1  CHICHESTER  CHICHESTER       A           1995               2           PO   \n",
       "2  CHICHESTER  CHICHESTER       A           1995               7           PO   \n",
       "3  CHICHESTER  CHICHESTER       A           1995               3           PO   \n",
       "4    EMSWORTH  CHICHESTER       A           1995               3           PO   \n",
       "\n",
       "  postcode_mod1 postcode_two_char postcode_four_char  \n",
       "0          GU29                GU               GU29  \n",
       "1          PO19                PO               PO19  \n",
       "2          PO20                PO               PO20  \n",
       "3          PO20                PO               PO20  \n",
       "4          PO10                PO               PO10  "
      ]
     },
     "execution_count": 302,
     "metadata": {},
     "output_type": "execute_result"
    }
   ],
   "source": [
    "Data.head()"
   ]
  },
  {
   "cell_type": "code",
   "execution_count": 305,
   "metadata": {
    "collapsed": true
   },
   "outputs": [],
   "source": [
    "Data.to_csv('data_with_month.csv')"
   ]
  },
  {
   "cell_type": "code",
   "execution_count": 172,
   "metadata": {},
   "outputs": [
    {
     "data": {
      "text/plain": [
       "(array([ 0,  1,  2,  3,  4,  5,  6,  7,  8,  9, 10, 11, 12, 13, 14, 15, 16,\n",
       "        17, 18, 19, 20, 21, 22, 23]), <a list of 24 Text xticklabel objects>)"
      ]
     },
     "execution_count": 172,
     "metadata": {},
     "output_type": "execute_result"
    },
    {
     "data": {
      "image/png": "[encoded data removed]",
      "text/plain": [
       "<matplotlib.figure.Figure at 0x300ce898>"
      ]
     },
     "metadata": {},
     "output_type": "display_data"
    }
   ],
   "source": [
    "data = pd.concat([Data['Price'], Data['transfer_year']], axis=1)\n",
    "f, ax = plt.subplots(figsize=(16, 8))\n",
    "fig = sns.boxplot(x='transfer_year', y=\"Price\", data=data)\n",
    "fig.axis(ymin=0, ymax=800000)\n",
    "plt.xticks(rotation=90)"
   ]
  },
  {
   "cell_type": "markdown",
   "metadata": {},
   "source": [
    "** This shows that price of houses in chicheste year wise incresed as well as the variations in price increased. There is increasing curve. but in 2009 we see that the decrese in house price **"
   ]
  },
  {
   "cell_type": "code",
   "execution_count": 160,
   "metadata": {},
   "outputs": [
    {
     "name": "stderr",
     "output_type": "stream",
     "text": [
      "C:\\Users\\Kishmu\\Anaconda2\\lib\\site-packages\\ipykernel_launcher.py:6: SettingWithCopyWarning: \n",
      "A value is trying to be set on a copy of a slice from a DataFrame.\n",
      "Try using .loc[row_indexer,col_indexer] = value instead\n",
      "\n",
      "See the caveats in the documentation: http://pandas.pydata.org/pandas-docs/stable/indexing.html#indexing-view-versus-copy\n",
      "  \n"
     ]
    }
   ],
   "source": [
    "def extract_year(date):\n",
    "    return int(date.split('/')[1])\n",
    "\n",
    "\n",
    "Data_1995 = Data[Data.transfer_year == 1995]\n",
    "Data_1995['transfer_month'] = Data['Transfer_Date'].apply(lambda date : extract_year(date))"
   ]
  },
  {
   "cell_type": "code",
   "execution_count": 174,
   "metadata": {},
   "outputs": [
    {
     "data": {
      "text/plain": [
       "(array([ 0,  1,  2,  3,  4,  5,  6,  7,  8,  9, 10, 11]),\n",
       " <a list of 12 Text xticklabel objects>)"
      ]
     },
     "execution_count": 174,
     "metadata": {},
     "output_type": "execute_result"
    },
    {
     "data": {
      "image/png": "[encoded data removed]",
      "text/plain": [
       "<matplotlib.figure.Figure at 0x25a23ba8>"
      ]
     },
     "metadata": {},
     "output_type": "display_data"
    }
   ],
   "source": [
    "data = pd.concat([Data_1995['Price'], Data_1995['transfer_month']], axis=1)\n",
    "f, ax = plt.subplots(figsize=(16, 8))\n",
    "fig = sns.boxplot(x='transfer_month', y=\"Price\", data=data)\n",
    "fig.axis(ymin=0, ymax=200000)\n",
    "plt.xticks(rotation=90)"
   ]
  },
  {
   "cell_type": "markdown",
   "metadata": {},
   "source": [
    "** We wanted to check what is the trend in prices of house depending on the month. For that we choose data of 1995 year and checked each month how the data is distributed. In september 1995 there is large variation in the prices.\n",
    "we see that there is not significant variation across the months in 1995 in the house price**"
   ]
  },
  {
   "cell_type": "code",
   "execution_count": 165,
   "metadata": {},
   "outputs": [
    {
     "name": "stderr",
     "output_type": "stream",
     "text": [
      "C:\\Users\\Kishmu\\Anaconda2\\lib\\site-packages\\ipykernel_launcher.py:6: SettingWithCopyWarning: \n",
      "A value is trying to be set on a copy of a slice from a DataFrame.\n",
      "Try using .loc[row_indexer,col_indexer] = value instead\n",
      "\n",
      "See the caveats in the documentation: http://pandas.pydata.org/pandas-docs/stable/indexing.html#indexing-view-versus-copy\n",
      "  \n"
     ]
    }
   ],
   "source": [
    "def extract_year(date):\n",
    "    return int(date.split('/')[1])\n",
    "\n",
    "\n",
    "Data_2017 = Data[Data.transfer_year == 2017]\n",
    "Data_2017['transfer_month'] = Data['Transfer_Date'].apply(lambda date : extract_year(date))"
   ]
  },
  {
   "cell_type": "code",
   "execution_count": 176,
   "metadata": {},
   "outputs": [
    {
     "data": {
      "image/png": "[encoded data removed]",
      "text/plain": [
       "<matplotlib.figure.Figure at 0x25fbe8d0>"
      ]
     },
     "metadata": {},
     "output_type": "display_data"
    }
   ],
   "source": [
    "data = pd.concat([Data_2017['Price'], Data_2017['transfer_month']], axis=1)\n",
    "f, ax = plt.subplots(figsize=(16, 8))\n",
    "fig = sns.boxplot(x='transfer_month', y=\"Price\", data=data)\n",
    "fig.axis(ymin=0, ymax=800000);\n",
    "plt.xticks(rotation=90);"
   ]
  },
  {
   "cell_type": "markdown",
   "metadata": {},
   "source": [
    "** There is not that much fluctations month wise**"
   ]
  },
  {
   "cell_type": "code",
   "execution_count": 183,
   "metadata": {},
   "outputs": [
    {
     "data": {
      "image/png": "[encoded data removed]",
      "text/plain": [
       "<matplotlib.figure.Figure at 0x268eb358>"
      ]
     },
     "metadata": {},
     "output_type": "display_data"
    }
   ],
   "source": [
    "#scatterplot\n",
    "sns.set()\n",
    "cols = ['Price', 'transfer_year']\n",
    "sns.pairplot(Data[cols], size = 2.5)\n",
    "plt.show();"
   ]
  },
  {
   "cell_type": "code",
   "execution_count": 178,
   "metadata": {},
   "outputs": [
    {
     "data": {
      "image/png": "[encoded data removed]",
      "text/plain": [
       "<matplotlib.figure.Figure at 0x2ff8fc88>"
      ]
     },
     "metadata": {},
     "output_type": "display_data"
    }
   ],
   "source": [
    "#saleprice correlation matrix\n",
    "corrmat = Data.corr()\n",
    "k = 13 #number of variables for heatmap\n",
    "cols = corrmat.nlargest(k, 'Price')['Price'].index\n",
    "cm = np.corrcoef(Data[cols].values.T)\n",
    "sns.set(font_scale=1.25)\n",
    "hm = sns.heatmap(cm, cbar=True, annot=True, square=True, fmt='.2f', annot_kws={'size': 10}, yticklabels=cols.values, xticklabels=cols.values)\n",
    "plt.show()"
   ]
  },
  {
   "cell_type": "markdown",
   "metadata": {},
   "source": [
    "** Creating new columns with postcode information **"
   ]
  },
  {
   "cell_type": "code",
   "execution_count": 296,
   "metadata": {},
   "outputs": [],
   "source": [
    "def extract_postcode(code):\n",
    "    \"\"\"Input is the postcode in string format. Output is taking only first 2 characters of the postcode\"\"\"\n",
    "    if not pd.isnull(code):\n",
    "        return(code[0] + code[1])\n",
    "    \n",
    "Data['postcode_two_char'] = Data['Postcode'].apply(lambda code:extract_postcode(code))\n"
   ]
  },
  {
   "cell_type": "code",
   "execution_count": 299,
   "metadata": {},
   "outputs": [
    {
     "data": {
      "text/plain": [
       "PO    39647\n",
       "GU    10228\n",
       "RH     3006\n",
       "BN       19\n",
       "SO        1\n",
       "Name: postcode_two_char, dtype: int64"
      ]
     },
     "execution_count": 299,
     "metadata": {},
     "output_type": "execute_result"
    }
   ],
   "source": [
    "Data['postcode_two_char'].value_counts()"
   ]
  },
  {
   "cell_type": "code",
   "execution_count": 297,
   "metadata": {},
   "outputs": [],
   "source": [
    "def extract_four_char_postcode(code):\n",
    "    \"\"\"Input is the postcode in string format. Output is taking only first 3 or 4 characters of the postcode\"\"\"\n",
    "    if not pd.isnull(code):\n",
    "        return code.split(' ')[0]\n",
    "    \n",
    "Data['postcode_four_char'] = Data['Postcode'].apply(lambda code:extract_four_char_postcode(code))\n",
    "    "
   ]
  },
  {
   "cell_type": "code",
   "execution_count": 298,
   "metadata": {},
   "outputs": [
    {
     "data": {
      "text/plain": [
       "PO20    15634\n",
       "PO19    15446\n",
       "PO18     5119\n",
       "GU29     4315\n",
       "PO10     3352\n",
       "GU28     2347\n",
       "RH14     2248\n",
       "GU27     2223\n",
       "GU31      839\n",
       "RH20      741\n",
       "GU30      251\n",
       "GU33      207\n",
       "PO9        84\n",
       "GU8        44\n",
       "PO22        7\n",
       "RH11        7\n",
       "BN18        4\n",
       "RH13        4\n",
       "PO21        4\n",
       "RH19        3\n",
       "BN14        3\n",
       "RH10        3\n",
       "BN11        2\n",
       "BN16        2\n",
       "PO16        1\n",
       "BN17        1\n",
       "BN15        1\n",
       "BN12        1\n",
       "BN41        1\n",
       "BN20        1\n",
       "BN43        1\n",
       "BN6         1\n",
       "BN5         1\n",
       "GU6         1\n",
       "GU26        1\n",
       "SO50        1\n",
       "Name: postcode_four_char, dtype: int64"
      ]
     },
     "execution_count": 298,
     "metadata": {},
     "output_type": "execute_result"
    }
   ],
   "source": [
    "Data['postcode_four_char'].value_counts()"
   ]
  },
  {
   "cell_type": "code",
   "execution_count": 282,
   "metadata": {},
   "outputs": [
    {
     "data": {
      "text/plain": [
       "(array([ 0,  1,  2,  3,  4,  5,  6,  7,  8,  9, 10, 11, 12, 13, 14, 15, 16,\n",
       "        17, 18, 19, 20, 21, 22, 23, 24, 25, 26, 27, 28, 29, 30, 31, 32, 33,\n",
       "        34, 35]), <a list of 36 Text xticklabel objects>)"
      ]
     },
     "execution_count": 282,
     "metadata": {},
     "output_type": "execute_result"
    },
    {
     "data": {
      "image/png": "[encoded data removed]",
      "text/plain": [
       "<matplotlib.figure.Figure at 0x27030da0>"
      ]
     },
     "metadata": {},
     "output_type": "display_data"
    }
   ],
   "source": [
    "data = pd.concat([Data['Price'], Data['postcode_mod1']], axis=1)\n",
    "f, ax = plt.subplots(figsize=(16, 8))\n",
    "fig = sns.boxplot(x='postcode_mod1', y=\"Price\", data=data)\n",
    "fig.axis(ymin=0, ymax=2000000)\n",
    "plt.xticks(rotation=90)"
   ]
  },
  {
   "cell_type": "markdown",
   "metadata": {},
   "source": [
    "** From above graph we see GU30 and GU8 has high prices of house.**"
   ]
  },
  {
   "cell_type": "code",
   "execution_count": 300,
   "metadata": {
    "collapsed": true
   },
   "outputs": [],
   "source": [
    "Data.to_csv('new_chichester_data.csv')"
   ]
  }
 ],
 "metadata": {
  "kernelspec": {
   "display_name": "Python 2",
   "language": "python",
   "name": "python2"
  },
  "language_info": {
   "codemirror_mode": {
    "name": "ipython",
    "version": 2
   },
   "file_extension": ".py",
   "mimetype": "text/x-python",
   "name": "python",
   "nbconvert_exporter": "python",
   "pygments_lexer": "ipython2",
   "version": "2.7.14"
  }
 },
 "nbformat": 4,
 "nbformat_minor": 2
}
