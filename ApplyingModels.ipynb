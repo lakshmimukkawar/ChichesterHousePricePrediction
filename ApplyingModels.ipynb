{
 "cells": [
  {
   "cell_type": "markdown",
   "metadata": {},
   "source": [
    "## Applying models and improving performance of models"
   ]
  },
  {
   "cell_type": "code",
   "execution_count": 51,
   "metadata": {},
   "outputs": [],
   "source": [
    "import pandas as pd\n",
    "import numpy as np\n",
    "from minepy import MINE\n",
    "from sklearn.preprocessing import StandardScaler\n",
    "from sklearn.preprocessing import MinMaxScaler\n",
    "from sklearn.preprocessing import LabelEncoder\n",
    "from scipy import stats\n",
    "import math\n",
    "import seaborn as sns\n",
    "import matplotlib.pyplot as plt\n",
    "\n",
    "from sklearn.model_selection import train_test_split\n",
    "from sklearn.metrics import mean_squared_error\n",
    "# import xgboost\n",
    "from sklearn.linear_model import LinearRegression\n",
    "from sklearn import cross_validation, tree, linear_model\n",
    "from sklearn.model_selection import KFold\n",
    "from sklearn.ensemble import RandomForestRegressor,  GradientBoostingRegressor\n",
    "from sklearn.decomposition import PCA\n",
    "from sklearn.linear_model import Lasso, Ridge, ElasticNet\n",
    "import lightgbm as lgb"
   ]
  },
  {
   "cell_type": "code",
   "execution_count": 50,
   "metadata": {},
   "outputs": [
    {
     "name": "stdout",
     "output_type": "stream",
     "text": [
      "Collecting lightgbm\n",
      "  Downloading https://files.pythonhosted.org/packages/cf/26/98fdda319d4bfcf47058c0862ad9fc47266d76547c7f1fbb4819c921eec7/lightgbm-2.1.2-py2.py3-none-win_amd64.whl (483kB)\n",
      "Requirement already satisfied: numpy in c:\\users\\kishmu\\anaconda2\\lib\\site-packages (from lightgbm) (1.13.3)\n",
      "Requirement already satisfied: scipy in c:\\users\\kishmu\\anaconda2\\lib\\site-packages (from lightgbm) (0.19.1)\n",
      "Requirement already satisfied: scikit-learn in c:\\users\\kishmu\\anaconda2\\lib\\site-packages (from lightgbm) (0.19.1)\n",
      "Installing collected packages: lightgbm\n",
      "Successfully installed lightgbm-2.1.2\n"
     ]
    },
    {
     "name": "stderr",
     "output_type": "stream",
     "text": [
      "grin 1.2.1 requires argparse>=1.1, which is not installed.\n"
     ]
    }
   ],
   "source": [
    "# import xgboost as xgb\n",
    "# !pip install lightgbm"
   ]
  },
  {
   "cell_type": "code",
   "execution_count": 15,
   "metadata": {},
   "outputs": [
    {
     "data": {
      "text/html": [
       "<div>\n",
       "<style>\n",
       "    .dataframe thead tr:only-child th {\n",
       "        text-align: right;\n",
       "    }\n",
       "\n",
       "    .dataframe thead th {\n",
       "        text-align: left;\n",
       "    }\n",
       "\n",
       "    .dataframe tbody tr th {\n",
       "        vertical-align: top;\n",
       "    }\n",
       "</style>\n",
       "<table border=\"1\" class=\"dataframe\">\n",
       "  <thead>\n",
       "    <tr style=\"text-align: right;\">\n",
       "      <th></th>\n",
       "      <th>Unnamed: 0</th>\n",
       "      <th>Price</th>\n",
       "      <th>Transfer_Date</th>\n",
       "      <th>Postcode</th>\n",
       "      <th>Property_Type</th>\n",
       "      <th>Old_New</th>\n",
       "      <th>Duration</th>\n",
       "      <th>Primary_Address</th>\n",
       "      <th>Secondary_Address</th>\n",
       "      <th>Street</th>\n",
       "      <th>Locality</th>\n",
       "      <th>Town_City</th>\n",
       "      <th>District</th>\n",
       "      <th>PP_Type</th>\n",
       "      <th>transfer_year</th>\n",
       "      <th>transfer_month</th>\n",
       "      <th>postcode_mod</th>\n",
       "      <th>postcode_mod1</th>\n",
       "      <th>postcode_two_char</th>\n",
       "      <th>postcode_four_char</th>\n",
       "    </tr>\n",
       "  </thead>\n",
       "  <tbody>\n",
       "    <tr>\n",
       "      <th>0</th>\n",
       "      <td>0</td>\n",
       "      <td>48000</td>\n",
       "      <td>20/02/1995</td>\n",
       "      <td>GU29 9TQ</td>\n",
       "      <td>Apartment</td>\n",
       "      <td>Resale</td>\n",
       "      <td>Leasehold</td>\n",
       "      <td>56</td>\n",
       "      <td>NaN</td>\n",
       "      <td>BARLAVINGTON WAY</td>\n",
       "      <td>MIDHURST</td>\n",
       "      <td>MIDHURST</td>\n",
       "      <td>CHICHESTER</td>\n",
       "      <td>A</td>\n",
       "      <td>1995</td>\n",
       "      <td>2</td>\n",
       "      <td>GU</td>\n",
       "      <td>GU29</td>\n",
       "      <td>GU</td>\n",
       "      <td>GU29</td>\n",
       "    </tr>\n",
       "    <tr>\n",
       "      <th>1</th>\n",
       "      <td>1</td>\n",
       "      <td>115000</td>\n",
       "      <td>28/02/1995</td>\n",
       "      <td>PO19 3PY</td>\n",
       "      <td>Apartment</td>\n",
       "      <td>Resale</td>\n",
       "      <td>Leasehold</td>\n",
       "      <td>NORTHLANDS HOUSE</td>\n",
       "      <td>FLAT 5</td>\n",
       "      <td>SALTHILL ROAD</td>\n",
       "      <td>CHICHESTER</td>\n",
       "      <td>CHICHESTER</td>\n",
       "      <td>CHICHESTER</td>\n",
       "      <td>A</td>\n",
       "      <td>1995</td>\n",
       "      <td>2</td>\n",
       "      <td>PO</td>\n",
       "      <td>PO19</td>\n",
       "      <td>PO</td>\n",
       "      <td>PO19</td>\n",
       "    </tr>\n",
       "    <tr>\n",
       "      <th>2</th>\n",
       "      <td>2</td>\n",
       "      <td>102500</td>\n",
       "      <td>28/07/1995</td>\n",
       "      <td>PO20 8PX</td>\n",
       "      <td>Detached</td>\n",
       "      <td>Resale</td>\n",
       "      <td>Freehold</td>\n",
       "      <td>KILMEEN</td>\n",
       "      <td>NaN</td>\n",
       "      <td>BRIAR AVENUE</td>\n",
       "      <td>WEST WITTERING</td>\n",
       "      <td>CHICHESTER</td>\n",
       "      <td>CHICHESTER</td>\n",
       "      <td>A</td>\n",
       "      <td>1995</td>\n",
       "      <td>7</td>\n",
       "      <td>PO</td>\n",
       "      <td>PO20</td>\n",
       "      <td>PO</td>\n",
       "      <td>PO20</td>\n",
       "    </tr>\n",
       "    <tr>\n",
       "      <th>3</th>\n",
       "      <td>3</td>\n",
       "      <td>53000</td>\n",
       "      <td>24/03/1995</td>\n",
       "      <td>PO20 0TD</td>\n",
       "      <td>Terraced</td>\n",
       "      <td>Resale</td>\n",
       "      <td>Freehold</td>\n",
       "      <td>9</td>\n",
       "      <td>NaN</td>\n",
       "      <td>ST GEORGES CLOSE</td>\n",
       "      <td>SELSEY</td>\n",
       "      <td>CHICHESTER</td>\n",
       "      <td>CHICHESTER</td>\n",
       "      <td>A</td>\n",
       "      <td>1995</td>\n",
       "      <td>3</td>\n",
       "      <td>PO</td>\n",
       "      <td>PO20</td>\n",
       "      <td>PO</td>\n",
       "      <td>PO20</td>\n",
       "    </tr>\n",
       "    <tr>\n",
       "      <th>4</th>\n",
       "      <td>4</td>\n",
       "      <td>45000</td>\n",
       "      <td>20/03/1995</td>\n",
       "      <td>PO10 8LZ</td>\n",
       "      <td>Terraced</td>\n",
       "      <td>Resale</td>\n",
       "      <td>Freehold</td>\n",
       "      <td>26</td>\n",
       "      <td>NaN</td>\n",
       "      <td>MANOR WAY</td>\n",
       "      <td>SOUTHBOURNE</td>\n",
       "      <td>EMSWORTH</td>\n",
       "      <td>CHICHESTER</td>\n",
       "      <td>A</td>\n",
       "      <td>1995</td>\n",
       "      <td>3</td>\n",
       "      <td>PO</td>\n",
       "      <td>PO10</td>\n",
       "      <td>PO</td>\n",
       "      <td>PO10</td>\n",
       "    </tr>\n",
       "  </tbody>\n",
       "</table>\n",
       "</div>"
      ],
      "text/plain": [
       "   Unnamed: 0   Price Transfer_Date  Postcode Property_Type Old_New  \\\n",
       "0           0   48000    20/02/1995  GU29 9TQ     Apartment  Resale   \n",
       "1           1  115000    28/02/1995  PO19 3PY     Apartment  Resale   \n",
       "2           2  102500    28/07/1995  PO20 8PX      Detached  Resale   \n",
       "3           3   53000    24/03/1995  PO20 0TD      Terraced  Resale   \n",
       "4           4   45000    20/03/1995  PO10 8LZ      Terraced  Resale   \n",
       "\n",
       "    Duration   Primary_Address Secondary_Address            Street  \\\n",
       "0  Leasehold                56               NaN  BARLAVINGTON WAY   \n",
       "1  Leasehold  NORTHLANDS HOUSE            FLAT 5     SALTHILL ROAD   \n",
       "2   Freehold           KILMEEN               NaN      BRIAR AVENUE   \n",
       "3   Freehold                 9               NaN  ST GEORGES CLOSE   \n",
       "4   Freehold                26               NaN         MANOR WAY   \n",
       "\n",
       "         Locality   Town_City    District PP_Type  transfer_year  \\\n",
       "0        MIDHURST    MIDHURST  CHICHESTER       A           1995   \n",
       "1      CHICHESTER  CHICHESTER  CHICHESTER       A           1995   \n",
       "2  WEST WITTERING  CHICHESTER  CHICHESTER       A           1995   \n",
       "3          SELSEY  CHICHESTER  CHICHESTER       A           1995   \n",
       "4     SOUTHBOURNE    EMSWORTH  CHICHESTER       A           1995   \n",
       "\n",
       "   transfer_month postcode_mod postcode_mod1 postcode_two_char  \\\n",
       "0               2           GU          GU29                GU   \n",
       "1               2           PO          PO19                PO   \n",
       "2               7           PO          PO20                PO   \n",
       "3               3           PO          PO20                PO   \n",
       "4               3           PO          PO10                PO   \n",
       "\n",
       "  postcode_four_char  \n",
       "0               GU29  \n",
       "1               PO19  \n",
       "2               PO20  \n",
       "3               PO20  \n",
       "4               PO10  "
      ]
     },
     "execution_count": 15,
     "metadata": {},
     "output_type": "execute_result"
    }
   ],
   "source": [
    "Data = pd.read_csv('data_with_month.csv')\n",
    "Data.head()"
   ]
  },
  {
   "cell_type": "code",
   "execution_count": 16,
   "metadata": {},
   "outputs": [
    {
     "data": {
      "text/plain": [
       "Index([u'Unnamed: 0', u'Price', u'Transfer_Date', u'Postcode',\n",
       "       u'Property_Type', u'Old_New', u'Duration', u'Primary_Address',\n",
       "       u'Secondary_Address', u'Street', u'Locality', u'Town_City', u'District',\n",
       "       u'PP_Type', u'transfer_year', u'transfer_month', u'postcode_mod',\n",
       "       u'postcode_mod1', u'postcode_two_char', u'postcode_four_char'],\n",
       "      dtype='object')"
      ]
     },
     "execution_count": 16,
     "metadata": {},
     "output_type": "execute_result"
    }
   ],
   "source": [
    "Data.columns\n",
    "# Data.shape"
   ]
  },
  {
   "cell_type": "code",
   "execution_count": 17,
   "metadata": {},
   "outputs": [
    {
     "data": {
      "text/plain": [
       "(52901, 20)"
      ]
     },
     "execution_count": 17,
     "metadata": {},
     "output_type": "execute_result"
    }
   ],
   "source": [
    "# Dropping the rows where postcode filed is null\n",
    "Data.drop(Data[Data.Postcode.isnull()].index, inplace=True)\n",
    "Data.shape"
   ]
  },
  {
   "cell_type": "code",
   "execution_count": 18,
   "metadata": {
    "collapsed": true
   },
   "outputs": [],
   "source": [
    "# Dropping District columns as it has all same value as chichester\n",
    "cols_to_drop = ['District', 'Unnamed: 0', 'Locality', 'Postcode', 'Primary_Address', 'Secondary_Address', 'Street', 'Transfer_Date',\n",
    "               'Town_City', 'postcode_mod', 'postcode_mod1']\n",
    "Data.drop(Data[cols_to_drop], axis = 1, inplace = True)"
   ]
  },
  {
   "cell_type": "markdown",
   "metadata": {},
   "source": [
    "** For applying machine learning models we have to check different features and may have to drop some irrelevant features too. **"
   ]
  },
  {
   "cell_type": "code",
   "execution_count": 19,
   "metadata": {},
   "outputs": [
    {
     "data": {
      "text/html": [
       "<div>\n",
       "<style>\n",
       "    .dataframe thead tr:only-child th {\n",
       "        text-align: right;\n",
       "    }\n",
       "\n",
       "    .dataframe thead th {\n",
       "        text-align: left;\n",
       "    }\n",
       "\n",
       "    .dataframe tbody tr th {\n",
       "        vertical-align: top;\n",
       "    }\n",
       "</style>\n",
       "<table border=\"1\" class=\"dataframe\">\n",
       "  <thead>\n",
       "    <tr style=\"text-align: right;\">\n",
       "      <th></th>\n",
       "      <th>Price</th>\n",
       "      <th>Property_Type</th>\n",
       "      <th>Old_New</th>\n",
       "      <th>Duration</th>\n",
       "      <th>PP_Type</th>\n",
       "      <th>transfer_year</th>\n",
       "      <th>transfer_month</th>\n",
       "      <th>postcode_two_char</th>\n",
       "      <th>postcode_four_char</th>\n",
       "    </tr>\n",
       "  </thead>\n",
       "  <tbody>\n",
       "    <tr>\n",
       "      <th>0</th>\n",
       "      <td>48000</td>\n",
       "      <td>Apartment</td>\n",
       "      <td>Resale</td>\n",
       "      <td>Leasehold</td>\n",
       "      <td>A</td>\n",
       "      <td>1995</td>\n",
       "      <td>2</td>\n",
       "      <td>GU</td>\n",
       "      <td>GU29</td>\n",
       "    </tr>\n",
       "    <tr>\n",
       "      <th>1</th>\n",
       "      <td>115000</td>\n",
       "      <td>Apartment</td>\n",
       "      <td>Resale</td>\n",
       "      <td>Leasehold</td>\n",
       "      <td>A</td>\n",
       "      <td>1995</td>\n",
       "      <td>2</td>\n",
       "      <td>PO</td>\n",
       "      <td>PO19</td>\n",
       "    </tr>\n",
       "    <tr>\n",
       "      <th>2</th>\n",
       "      <td>102500</td>\n",
       "      <td>Detached</td>\n",
       "      <td>Resale</td>\n",
       "      <td>Freehold</td>\n",
       "      <td>A</td>\n",
       "      <td>1995</td>\n",
       "      <td>7</td>\n",
       "      <td>PO</td>\n",
       "      <td>PO20</td>\n",
       "    </tr>\n",
       "    <tr>\n",
       "      <th>3</th>\n",
       "      <td>53000</td>\n",
       "      <td>Terraced</td>\n",
       "      <td>Resale</td>\n",
       "      <td>Freehold</td>\n",
       "      <td>A</td>\n",
       "      <td>1995</td>\n",
       "      <td>3</td>\n",
       "      <td>PO</td>\n",
       "      <td>PO20</td>\n",
       "    </tr>\n",
       "    <tr>\n",
       "      <th>4</th>\n",
       "      <td>45000</td>\n",
       "      <td>Terraced</td>\n",
       "      <td>Resale</td>\n",
       "      <td>Freehold</td>\n",
       "      <td>A</td>\n",
       "      <td>1995</td>\n",
       "      <td>3</td>\n",
       "      <td>PO</td>\n",
       "      <td>PO10</td>\n",
       "    </tr>\n",
       "  </tbody>\n",
       "</table>\n",
       "</div>"
      ],
      "text/plain": [
       "    Price Property_Type Old_New   Duration PP_Type  transfer_year  \\\n",
       "0   48000     Apartment  Resale  Leasehold       A           1995   \n",
       "1  115000     Apartment  Resale  Leasehold       A           1995   \n",
       "2  102500      Detached  Resale   Freehold       A           1995   \n",
       "3   53000      Terraced  Resale   Freehold       A           1995   \n",
       "4   45000      Terraced  Resale   Freehold       A           1995   \n",
       "\n",
       "   transfer_month postcode_two_char postcode_four_char  \n",
       "0               2                GU               GU29  \n",
       "1               2                PO               PO19  \n",
       "2               7                PO               PO20  \n",
       "3               3                PO               PO20  \n",
       "4               3                PO               PO10  "
      ]
     },
     "execution_count": 19,
     "metadata": {},
     "output_type": "execute_result"
    }
   ],
   "source": [
    "Data.head()\n",
    "# Data.to_csv('Reduced_Data_columns.csv')"
   ]
  },
  {
   "cell_type": "markdown",
   "metadata": {},
   "source": [
    "** In the first notebook python of exploring data we have seen that 'Secondary_Address' has 46699 records null, so we will  npt include this feature. District columns contains only one value as Chichester so we will exclude this because it doesn't provide any insight for predicitons. Locality, Primary address, secondary addresss, street has not significant impact on the price. Transfer Date has been removed because we extracted month and year from that and deleted the original one. From postcode as well we created new two features and dropped the postcode.**"
   ]
  },
  {
   "cell_type": "code",
   "execution_count": 20,
   "metadata": {},
   "outputs": [
    {
     "data": {
      "text/html": [
       "<div>\n",
       "<style>\n",
       "    .dataframe thead tr:only-child th {\n",
       "        text-align: right;\n",
       "    }\n",
       "\n",
       "    .dataframe thead th {\n",
       "        text-align: left;\n",
       "    }\n",
       "\n",
       "    .dataframe tbody tr th {\n",
       "        vertical-align: top;\n",
       "    }\n",
       "</style>\n",
       "<table border=\"1\" class=\"dataframe\">\n",
       "  <thead>\n",
       "    <tr style=\"text-align: right;\">\n",
       "      <th></th>\n",
       "      <th>Price</th>\n",
       "      <th>Property_Type</th>\n",
       "      <th>Old_New</th>\n",
       "      <th>Duration</th>\n",
       "      <th>PP_Type</th>\n",
       "      <th>transfer_year</th>\n",
       "      <th>transfer_month</th>\n",
       "      <th>postcode_two_char</th>\n",
       "      <th>postcode_four_char</th>\n",
       "      <th>high_season</th>\n",
       "    </tr>\n",
       "  </thead>\n",
       "  <tbody>\n",
       "    <tr>\n",
       "      <th>0</th>\n",
       "      <td>48000</td>\n",
       "      <td>Apartment</td>\n",
       "      <td>Resale</td>\n",
       "      <td>Leasehold</td>\n",
       "      <td>A</td>\n",
       "      <td>1995</td>\n",
       "      <td>2</td>\n",
       "      <td>GU</td>\n",
       "      <td>GU29</td>\n",
       "      <td>0</td>\n",
       "    </tr>\n",
       "    <tr>\n",
       "      <th>1</th>\n",
       "      <td>115000</td>\n",
       "      <td>Apartment</td>\n",
       "      <td>Resale</td>\n",
       "      <td>Leasehold</td>\n",
       "      <td>A</td>\n",
       "      <td>1995</td>\n",
       "      <td>2</td>\n",
       "      <td>PO</td>\n",
       "      <td>PO19</td>\n",
       "      <td>0</td>\n",
       "    </tr>\n",
       "    <tr>\n",
       "      <th>2</th>\n",
       "      <td>102500</td>\n",
       "      <td>Detached</td>\n",
       "      <td>Resale</td>\n",
       "      <td>Freehold</td>\n",
       "      <td>A</td>\n",
       "      <td>1995</td>\n",
       "      <td>7</td>\n",
       "      <td>PO</td>\n",
       "      <td>PO20</td>\n",
       "      <td>1</td>\n",
       "    </tr>\n",
       "    <tr>\n",
       "      <th>3</th>\n",
       "      <td>53000</td>\n",
       "      <td>Terraced</td>\n",
       "      <td>Resale</td>\n",
       "      <td>Freehold</td>\n",
       "      <td>A</td>\n",
       "      <td>1995</td>\n",
       "      <td>3</td>\n",
       "      <td>PO</td>\n",
       "      <td>PO20</td>\n",
       "      <td>0</td>\n",
       "    </tr>\n",
       "    <tr>\n",
       "      <th>4</th>\n",
       "      <td>45000</td>\n",
       "      <td>Terraced</td>\n",
       "      <td>Resale</td>\n",
       "      <td>Freehold</td>\n",
       "      <td>A</td>\n",
       "      <td>1995</td>\n",
       "      <td>3</td>\n",
       "      <td>PO</td>\n",
       "      <td>PO10</td>\n",
       "      <td>0</td>\n",
       "    </tr>\n",
       "  </tbody>\n",
       "</table>\n",
       "</div>"
      ],
      "text/plain": [
       "    Price Property_Type Old_New   Duration PP_Type  transfer_year  \\\n",
       "0   48000     Apartment  Resale  Leasehold       A           1995   \n",
       "1  115000     Apartment  Resale  Leasehold       A           1995   \n",
       "2  102500      Detached  Resale   Freehold       A           1995   \n",
       "3   53000      Terraced  Resale   Freehold       A           1995   \n",
       "4   45000      Terraced  Resale   Freehold       A           1995   \n",
       "\n",
       "   transfer_month postcode_two_char postcode_four_char  high_season  \n",
       "0               2                GU               GU29            0  \n",
       "1               2                PO               PO19            0  \n",
       "2               7                PO               PO20            1  \n",
       "3               3                PO               PO20            0  \n",
       "4               3                PO               PO10            0  "
      ]
     },
     "execution_count": 20,
     "metadata": {},
     "output_type": "execute_result"
    }
   ],
   "source": [
    "Data['high_season'] = Data[['transfer_month']].replace({1: 0, 2: 0, 3: 0, 4: 0, 5: 0, 6: 1, 7: 1, 8: 1, 9: 0, 10: 0, 11: 0, 12: 0})\n",
    "Data.head()"
   ]
  },
  {
   "cell_type": "code",
   "execution_count": 21,
   "metadata": {},
   "outputs": [
    {
     "data": {
      "text/html": [
       "<div>\n",
       "<style>\n",
       "    .dataframe thead tr:only-child th {\n",
       "        text-align: right;\n",
       "    }\n",
       "\n",
       "    .dataframe thead th {\n",
       "        text-align: left;\n",
       "    }\n",
       "\n",
       "    .dataframe tbody tr th {\n",
       "        vertical-align: top;\n",
       "    }\n",
       "</style>\n",
       "<table border=\"1\" class=\"dataframe\">\n",
       "  <thead>\n",
       "    <tr style=\"text-align: right;\">\n",
       "      <th></th>\n",
       "      <th>Price</th>\n",
       "      <th>Property_Type</th>\n",
       "      <th>Old_New</th>\n",
       "      <th>Duration</th>\n",
       "      <th>PP_Type</th>\n",
       "      <th>transfer_year</th>\n",
       "      <th>postcode_two_char</th>\n",
       "      <th>postcode_four_char</th>\n",
       "      <th>high_season</th>\n",
       "    </tr>\n",
       "  </thead>\n",
       "  <tbody>\n",
       "    <tr>\n",
       "      <th>0</th>\n",
       "      <td>48000</td>\n",
       "      <td>Apartment</td>\n",
       "      <td>Resale</td>\n",
       "      <td>Leasehold</td>\n",
       "      <td>A</td>\n",
       "      <td>1995</td>\n",
       "      <td>GU</td>\n",
       "      <td>GU29</td>\n",
       "      <td>0</td>\n",
       "    </tr>\n",
       "    <tr>\n",
       "      <th>1</th>\n",
       "      <td>115000</td>\n",
       "      <td>Apartment</td>\n",
       "      <td>Resale</td>\n",
       "      <td>Leasehold</td>\n",
       "      <td>A</td>\n",
       "      <td>1995</td>\n",
       "      <td>PO</td>\n",
       "      <td>PO19</td>\n",
       "      <td>0</td>\n",
       "    </tr>\n",
       "    <tr>\n",
       "      <th>2</th>\n",
       "      <td>102500</td>\n",
       "      <td>Detached</td>\n",
       "      <td>Resale</td>\n",
       "      <td>Freehold</td>\n",
       "      <td>A</td>\n",
       "      <td>1995</td>\n",
       "      <td>PO</td>\n",
       "      <td>PO20</td>\n",
       "      <td>1</td>\n",
       "    </tr>\n",
       "    <tr>\n",
       "      <th>3</th>\n",
       "      <td>53000</td>\n",
       "      <td>Terraced</td>\n",
       "      <td>Resale</td>\n",
       "      <td>Freehold</td>\n",
       "      <td>A</td>\n",
       "      <td>1995</td>\n",
       "      <td>PO</td>\n",
       "      <td>PO20</td>\n",
       "      <td>0</td>\n",
       "    </tr>\n",
       "    <tr>\n",
       "      <th>4</th>\n",
       "      <td>45000</td>\n",
       "      <td>Terraced</td>\n",
       "      <td>Resale</td>\n",
       "      <td>Freehold</td>\n",
       "      <td>A</td>\n",
       "      <td>1995</td>\n",
       "      <td>PO</td>\n",
       "      <td>PO10</td>\n",
       "      <td>0</td>\n",
       "    </tr>\n",
       "  </tbody>\n",
       "</table>\n",
       "</div>"
      ],
      "text/plain": [
       "    Price Property_Type Old_New   Duration PP_Type  transfer_year  \\\n",
       "0   48000     Apartment  Resale  Leasehold       A           1995   \n",
       "1  115000     Apartment  Resale  Leasehold       A           1995   \n",
       "2  102500      Detached  Resale   Freehold       A           1995   \n",
       "3   53000      Terraced  Resale   Freehold       A           1995   \n",
       "4   45000      Terraced  Resale   Freehold       A           1995   \n",
       "\n",
       "  postcode_two_char postcode_four_char  high_season  \n",
       "0                GU               GU29            0  \n",
       "1                PO               PO19            0  \n",
       "2                PO               PO20            1  \n",
       "3                PO               PO20            0  \n",
       "4                PO               PO10            0  "
      ]
     },
     "execution_count": 21,
     "metadata": {},
     "output_type": "execute_result"
    }
   ],
   "source": [
    "# Dropping transfer_month column and checking the high_season added column\n",
    "Data.drop(['transfer_month'], axis = 1, inplace = True)\n",
    "Data.head()"
   ]
  },
  {
   "cell_type": "markdown",
   "metadata": {},
   "source": [
    "** New feature called high_season has been created as we see in the earlier notbook that during June, July and August House Price is high. This is why we are calling it as high season period. **"
   ]
  },
  {
   "cell_type": "markdown",
   "metadata": {},
   "source": [
    "**Instead of using whole postcode we will use first 3 to 4 characters of the postcode because this is also kind of showing the locality and we want to check how it works for our model prediction.**"
   ]
  },
  {
   "cell_type": "code",
   "execution_count": 50,
   "metadata": {
    "collapsed": true
   },
   "outputs": [],
   "source": [
    "# Encoding the categorical variables with differnt methods:\n",
    "# Method 1 directly replacing"
   ]
  },
  {
   "cell_type": "code",
   "execution_count": 22,
   "metadata": {
    "collapsed": true
   },
   "outputs": [],
   "source": [
    "Data_MIC = Data"
   ]
  },
  {
   "cell_type": "code",
   "execution_count": 23,
   "metadata": {
    "collapsed": true,
    "scrolled": true
   },
   "outputs": [],
   "source": [
    "def replace_column(x) :\n",
    "    if(x == 'Resale'):\n",
    "        x = 1\n",
    "    else:\n",
    "        x = 2\n",
    "    return x\n",
    "\n",
    "Data_MIC['Old_New'] = Data_MIC['Old_New'].apply(lambda x : replace_column(x))"
   ]
  },
  {
   "cell_type": "code",
   "execution_count": 24,
   "metadata": {},
   "outputs": [
    {
     "data": {
      "text/plain": [
       "1    47598\n",
       "2     5303\n",
       "Name: Old_New, dtype: int64"
      ]
     },
     "execution_count": 24,
     "metadata": {},
     "output_type": "execute_result"
    }
   ],
   "source": [
    "Data_MIC.Old_New.value_counts()"
   ]
  },
  {
   "cell_type": "code",
   "execution_count": 25,
   "metadata": {
    "collapsed": true
   },
   "outputs": [],
   "source": [
    "# Method 2 of LabelEncoder of sklearn.preprocessing"
   ]
  },
  {
   "cell_type": "code",
   "execution_count": 23,
   "metadata": {
    "collapsed": true
   },
   "outputs": [],
   "source": [
    "def label_encoding(Data, columnName, NewColumnName):\n",
    "    lb_make = LabelEncoder()\n",
    "    Data[NewColumnName] = lb_make.fit_transform(Data[columnName])"
   ]
  },
  {
   "cell_type": "code",
   "execution_count": 24,
   "metadata": {},
   "outputs": [],
   "source": [
    "label_encoding(Data_MIC, 'postcode_two_char', 'postcode_two_char_new')"
   ]
  },
  {
   "cell_type": "code",
   "execution_count": 25,
   "metadata": {
    "collapsed": true
   },
   "outputs": [],
   "source": [
    "label_encoding(Data_MIC, 'postcode_four_char', 'postcode_four_char_new')"
   ]
  },
  {
   "cell_type": "code",
   "execution_count": 26,
   "metadata": {
    "collapsed": true
   },
   "outputs": [],
   "source": [
    "label_encoding(Data_MIC, 'Property_Type', 'Property_Type_new')"
   ]
  },
  {
   "cell_type": "code",
   "execution_count": 27,
   "metadata": {
    "collapsed": true
   },
   "outputs": [],
   "source": [
    "label_encoding(Data_MIC, 'Duration', 'Duration_new')"
   ]
  },
  {
   "cell_type": "code",
   "execution_count": 28,
   "metadata": {
    "collapsed": true
   },
   "outputs": [],
   "source": [
    "label_encoding(Data_MIC, 'PP_Type', 'PP_Type_new')"
   ]
  },
  {
   "cell_type": "code",
   "execution_count": 29,
   "metadata": {
    "collapsed": true
   },
   "outputs": [],
   "source": [
    "label_encoding(Data_MIC, 'Old_New', 'Old_New_new')"
   ]
  },
  {
   "cell_type": "code",
   "execution_count": 30,
   "metadata": {},
   "outputs": [
    {
     "data": {
      "text/plain": [
       "Index([u'Price', u'Property_Type', u'Old_New', u'Duration', u'PP_Type',\n",
       "       u'transfer_year', u'postcode_two_char', u'postcode_four_char',\n",
       "       u'high_season', u'postcode_two_char_new', u'postcode_four_char_new',\n",
       "       u'Property_Type_new', u'Duration_new', u'PP_Type_new', u'Old_New_new'],\n",
       "      dtype='object')"
      ]
     },
     "execution_count": 30,
     "metadata": {},
     "output_type": "execute_result"
    }
   ],
   "source": [
    "# Now we see that we have many columns added with encoding method\n",
    "Data_MIC.columns"
   ]
  },
  {
   "cell_type": "code",
   "execution_count": 36,
   "metadata": {
    "collapsed": true
   },
   "outputs": [],
   "source": [
    "# saving this file\n",
    "Data_MIC.to_csv('MIC_Data.csv')"
   ]
  },
  {
   "cell_type": "markdown",
   "metadata": {},
   "source": [
    "** We are checking MIC(Maximal Information Coefficient). As our data is not numerical so applying pearson correlation for calculating correlation does not make sense. It is better way to find correlation for categorical data by MIC**"
   ]
  },
  {
   "cell_type": "code",
   "execution_count": 31,
   "metadata": {},
   "outputs": [
    {
     "data": {
      "text/html": [
       "<div>\n",
       "<style>\n",
       "    .dataframe thead tr:only-child th {\n",
       "        text-align: right;\n",
       "    }\n",
       "\n",
       "    .dataframe thead th {\n",
       "        text-align: left;\n",
       "    }\n",
       "\n",
       "    .dataframe tbody tr th {\n",
       "        vertical-align: top;\n",
       "    }\n",
       "</style>\n",
       "<table border=\"1\" class=\"dataframe\">\n",
       "  <thead>\n",
       "    <tr style=\"text-align: right;\">\n",
       "      <th></th>\n",
       "      <th>Duration_new</th>\n",
       "      <th>PP_Type_new</th>\n",
       "      <th>Price</th>\n",
       "      <th>Property_Type_new</th>\n",
       "      <th>postcode_four_char_new</th>\n",
       "      <th>postcode_two_char_new</th>\n",
       "      <th>Old_New_new</th>\n",
       "    </tr>\n",
       "  </thead>\n",
       "  <tbody>\n",
       "    <tr>\n",
       "      <th>0</th>\n",
       "      <td>1</td>\n",
       "      <td>0</td>\n",
       "      <td>48000</td>\n",
       "      <td>0</td>\n",
       "      <td>15</td>\n",
       "      <td>1</td>\n",
       "      <td>1</td>\n",
       "    </tr>\n",
       "    <tr>\n",
       "      <th>1</th>\n",
       "      <td>1</td>\n",
       "      <td>0</td>\n",
       "      <td>115000</td>\n",
       "      <td>0</td>\n",
       "      <td>24</td>\n",
       "      <td>2</td>\n",
       "      <td>1</td>\n",
       "    </tr>\n",
       "    <tr>\n",
       "      <th>2</th>\n",
       "      <td>0</td>\n",
       "      <td>0</td>\n",
       "      <td>102500</td>\n",
       "      <td>1</td>\n",
       "      <td>25</td>\n",
       "      <td>2</td>\n",
       "      <td>1</td>\n",
       "    </tr>\n",
       "    <tr>\n",
       "      <th>3</th>\n",
       "      <td>0</td>\n",
       "      <td>0</td>\n",
       "      <td>53000</td>\n",
       "      <td>4</td>\n",
       "      <td>25</td>\n",
       "      <td>2</td>\n",
       "      <td>1</td>\n",
       "    </tr>\n",
       "    <tr>\n",
       "      <th>4</th>\n",
       "      <td>0</td>\n",
       "      <td>0</td>\n",
       "      <td>45000</td>\n",
       "      <td>4</td>\n",
       "      <td>21</td>\n",
       "      <td>2</td>\n",
       "      <td>1</td>\n",
       "    </tr>\n",
       "  </tbody>\n",
       "</table>\n",
       "</div>"
      ],
      "text/plain": [
       "   Duration_new  PP_Type_new   Price  Property_Type_new  \\\n",
       "0             1            0   48000                  0   \n",
       "1             1            0  115000                  0   \n",
       "2             0            0  102500                  1   \n",
       "3             0            0   53000                  4   \n",
       "4             0            0   45000                  4   \n",
       "\n",
       "   postcode_four_char_new  postcode_two_char_new  Old_New_new  \n",
       "0                      15                      1            1  \n",
       "1                      24                      2            1  \n",
       "2                      25                      2            1  \n",
       "3                      25                      2            1  \n",
       "4                      21                      2            1  "
      ]
     },
     "execution_count": 31,
     "metadata": {},
     "output_type": "execute_result"
    }
   ],
   "source": [
    "Data_for_MIC = Data_MIC[['Duration_new', 'PP_Type_new', 'Price', 'Property_Type_new', 'postcode_four_char_new', 'postcode_two_char_new', 'Old_New_new']]\n",
    "Data_for_MIC.head()"
   ]
  },
  {
   "cell_type": "code",
   "execution_count": 32,
   "metadata": {
    "collapsed": true
   },
   "outputs": [],
   "source": [
    "def mic(param1, param2):\n",
    "    \n",
    "    \"\"\"Input is two parameters between which we want to calculate MIC.\n",
    "        Output is the MIC value.\"\"\"\n",
    "    \n",
    "    m = MINE()\n",
    "    m.compute_score(param1, param2)\n",
    "    return m.mic()"
   ]
  },
  {
   "cell_type": "code",
   "execution_count": 33,
   "metadata": {},
   "outputs": [
    {
     "name": "stdout",
     "output_type": "stream",
     "text": [
      "('MIC between Price and Old_New_new is =', 0.049000884541730794)\n",
      "('MIC between Price and postcode_four_char_new is =', 0.05283946802498946)\n",
      "('MIC between Price and postcode_two_char_new is =', 0.04167159655809659)\n",
      "('MIC between Price and Property_Type_new is =', 0.14406171159033865)\n",
      "('MIC between Price and PP_Type_new is =', 0.038957418779547996)\n",
      "('MIC between Price and Duration_new is =', 0.10565785560840131)\n"
     ]
    }
   ],
   "source": [
    "tmp = Data_for_MIC.values\n",
    "print('MIC between Price and Old_New_new is =', mic(tmp[:,2], tmp[:,6]))\n",
    "print('MIC between Price and postcode_four_char_new is =', mic(tmp[:,2], tmp[:,4]))\n",
    "print('MIC between Price and postcode_two_char_new is =', mic(tmp[:,2], tmp[:,5]))\n",
    "print('MIC between Price and Property_Type_new is =', mic(tmp[:,2], tmp[:,3]))\n",
    "print('MIC between Price and PP_Type_new is =', mic(tmp[:,2], tmp[:,1]))\n",
    "print('MIC between Price and Duration_new is =', mic(tmp[:,2], tmp[:,0]))"
   ]
  },
  {
   "cell_type": "code",
   "execution_count": 49,
   "metadata": {},
   "outputs": [
    {
     "name": "stdout",
     "output_type": "stream",
     "text": [
      "<class 'pandas.core.frame.DataFrame'>\n",
      "Int64Index: 52901 entries, 0 to 52958\n",
      "Data columns (total 15 columns):\n",
      "Price                     52901 non-null int64\n",
      "Property_Type             52901 non-null object\n",
      "Old_New                   52901 non-null int64\n",
      "Duration                  52901 non-null object\n",
      "PP_Type                   52901 non-null object\n",
      "transfer_year             52901 non-null int64\n",
      "postcode_two_char         52901 non-null object\n",
      "postcode_four_char        52901 non-null object\n",
      "high_season               52901 non-null int64\n",
      "postcode_two_char_new     52901 non-null int64\n",
      "postcode_four_char_new    52901 non-null int64\n",
      "Property_Type_new         52901 non-null int64\n",
      "Duration_new              52901 non-null int64\n",
      "PP_Type_new               52901 non-null int64\n",
      "Old_New_new               52901 non-null int64\n",
      "dtypes: int64(10), object(5)\n",
      "memory usage: 6.5+ MB\n"
     ]
    }
   ],
   "source": [
    "Data.info()"
   ]
  },
  {
   "cell_type": "markdown",
   "metadata": {},
   "source": [
    "** From above we see that Property type and Duration feature has MIC as 0.14 and 0.10 respectively, which means that price is more dependent on Property type and duration than other fetures menthioned above. Adding postcode_four_char feature is more suitable as it has High MIC than postcode_two_char.\n",
    "**"
   ]
  },
  {
   "cell_type": "code",
   "execution_count": 34,
   "metadata": {
    "collapsed": true
   },
   "outputs": [],
   "source": [
    "def remove_outlier(data, col_name):\n",
    "    \n",
    "    \"\"\"This function removes the outlier in the given columns. Input is data and column name for which the outliers we have to decide.\n",
    "    output is the dataframe which will not contain the outliers.\"\"\"\n",
    "    \n",
    "    q1 = data[col_name].quantile(0.25)\n",
    "    q3 = data[col_name].quantile(0.75)\n",
    "    iqr = q3-q1 #Interquartile range\n",
    "    low  = q1-1.5*iqr\n",
    "    high = q3+1.5*iqr\n",
    "    data1 = data.loc[(data[col_name] > low) & (data[col_name] < high)]\n",
    "    return data1"
   ]
  },
  {
   "cell_type": "code",
   "execution_count": 35,
   "metadata": {},
   "outputs": [],
   "source": [
    "DataIQR = Data\n",
    "DataIQR = remove_outlier(DataIQR, 'Price')"
   ]
  },
  {
   "cell_type": "code",
   "execution_count": 36,
   "metadata": {},
   "outputs": [
    {
     "data": {
      "text/plain": [
       "(49375, 15)"
      ]
     },
     "execution_count": 36,
     "metadata": {},
     "output_type": "execute_result"
    }
   ],
   "source": [
    "DataIQR.shape\n",
    "# DataIQR.to_csv('Data_outliers_removed.csv')"
   ]
  },
  {
   "cell_type": "markdown",
   "metadata": {},
   "source": [
    "** We have removed outliers from price data and we will check if this will make model better or not **"
   ]
  },
  {
   "cell_type": "markdown",
   "metadata": {},
   "source": [
    "** We convert categorical features to new columns by using get_dummies method **"
   ]
  },
  {
   "cell_type": "code",
   "execution_count": 37,
   "metadata": {},
   "outputs": [],
   "source": [
    "cols = ['Price', 'Old_New', 'postcode_four_char', 'Duration', 'Property_Type', 'transfer_year', 'high_season']\n",
    "Data_dummy = Data[cols]\n",
    "Data_dummy = pd.get_dummies(Data_dummy)"
   ]
  },
  {
   "cell_type": "code",
   "execution_count": 38,
   "metadata": {},
   "outputs": [
    {
     "data": {
      "text/html": [
       "<div>\n",
       "<style>\n",
       "    .dataframe thead tr:only-child th {\n",
       "        text-align: right;\n",
       "    }\n",
       "\n",
       "    .dataframe thead th {\n",
       "        text-align: left;\n",
       "    }\n",
       "\n",
       "    .dataframe tbody tr th {\n",
       "        vertical-align: top;\n",
       "    }\n",
       "</style>\n",
       "<table border=\"1\" class=\"dataframe\">\n",
       "  <thead>\n",
       "    <tr style=\"text-align: right;\">\n",
       "      <th></th>\n",
       "      <th>Price</th>\n",
       "      <th>transfer_year</th>\n",
       "      <th>high_season</th>\n",
       "      <th>Old_New_New Build</th>\n",
       "      <th>Old_New_Resale</th>\n",
       "      <th>postcode_four_char_BN11</th>\n",
       "      <th>postcode_four_char_BN12</th>\n",
       "      <th>postcode_four_char_BN14</th>\n",
       "      <th>postcode_four_char_BN15</th>\n",
       "      <th>postcode_four_char_BN16</th>\n",
       "      <th>...</th>\n",
       "      <th>postcode_four_char_RH19</th>\n",
       "      <th>postcode_four_char_RH20</th>\n",
       "      <th>postcode_four_char_SO50</th>\n",
       "      <th>Duration_Freehold</th>\n",
       "      <th>Duration_Leasehold</th>\n",
       "      <th>Property_Type_Apartment</th>\n",
       "      <th>Property_Type_Detached</th>\n",
       "      <th>Property_Type_Other</th>\n",
       "      <th>Property_Type_Semi-Detached</th>\n",
       "      <th>Property_Type_Terraced</th>\n",
       "    </tr>\n",
       "  </thead>\n",
       "  <tbody>\n",
       "    <tr>\n",
       "      <th>0</th>\n",
       "      <td>48000</td>\n",
       "      <td>1995</td>\n",
       "      <td>0</td>\n",
       "      <td>0</td>\n",
       "      <td>1</td>\n",
       "      <td>0</td>\n",
       "      <td>0</td>\n",
       "      <td>0</td>\n",
       "      <td>0</td>\n",
       "      <td>0</td>\n",
       "      <td>...</td>\n",
       "      <td>0</td>\n",
       "      <td>0</td>\n",
       "      <td>0</td>\n",
       "      <td>0</td>\n",
       "      <td>1</td>\n",
       "      <td>1</td>\n",
       "      <td>0</td>\n",
       "      <td>0</td>\n",
       "      <td>0</td>\n",
       "      <td>0</td>\n",
       "    </tr>\n",
       "    <tr>\n",
       "      <th>1</th>\n",
       "      <td>115000</td>\n",
       "      <td>1995</td>\n",
       "      <td>0</td>\n",
       "      <td>0</td>\n",
       "      <td>1</td>\n",
       "      <td>0</td>\n",
       "      <td>0</td>\n",
       "      <td>0</td>\n",
       "      <td>0</td>\n",
       "      <td>0</td>\n",
       "      <td>...</td>\n",
       "      <td>0</td>\n",
       "      <td>0</td>\n",
       "      <td>0</td>\n",
       "      <td>0</td>\n",
       "      <td>1</td>\n",
       "      <td>1</td>\n",
       "      <td>0</td>\n",
       "      <td>0</td>\n",
       "      <td>0</td>\n",
       "      <td>0</td>\n",
       "    </tr>\n",
       "    <tr>\n",
       "      <th>2</th>\n",
       "      <td>102500</td>\n",
       "      <td>1995</td>\n",
       "      <td>1</td>\n",
       "      <td>0</td>\n",
       "      <td>1</td>\n",
       "      <td>0</td>\n",
       "      <td>0</td>\n",
       "      <td>0</td>\n",
       "      <td>0</td>\n",
       "      <td>0</td>\n",
       "      <td>...</td>\n",
       "      <td>0</td>\n",
       "      <td>0</td>\n",
       "      <td>0</td>\n",
       "      <td>1</td>\n",
       "      <td>0</td>\n",
       "      <td>0</td>\n",
       "      <td>1</td>\n",
       "      <td>0</td>\n",
       "      <td>0</td>\n",
       "      <td>0</td>\n",
       "    </tr>\n",
       "    <tr>\n",
       "      <th>3</th>\n",
       "      <td>53000</td>\n",
       "      <td>1995</td>\n",
       "      <td>0</td>\n",
       "      <td>0</td>\n",
       "      <td>1</td>\n",
       "      <td>0</td>\n",
       "      <td>0</td>\n",
       "      <td>0</td>\n",
       "      <td>0</td>\n",
       "      <td>0</td>\n",
       "      <td>...</td>\n",
       "      <td>0</td>\n",
       "      <td>0</td>\n",
       "      <td>0</td>\n",
       "      <td>1</td>\n",
       "      <td>0</td>\n",
       "      <td>0</td>\n",
       "      <td>0</td>\n",
       "      <td>0</td>\n",
       "      <td>0</td>\n",
       "      <td>1</td>\n",
       "    </tr>\n",
       "    <tr>\n",
       "      <th>4</th>\n",
       "      <td>45000</td>\n",
       "      <td>1995</td>\n",
       "      <td>0</td>\n",
       "      <td>0</td>\n",
       "      <td>1</td>\n",
       "      <td>0</td>\n",
       "      <td>0</td>\n",
       "      <td>0</td>\n",
       "      <td>0</td>\n",
       "      <td>0</td>\n",
       "      <td>...</td>\n",
       "      <td>0</td>\n",
       "      <td>0</td>\n",
       "      <td>0</td>\n",
       "      <td>1</td>\n",
       "      <td>0</td>\n",
       "      <td>0</td>\n",
       "      <td>0</td>\n",
       "      <td>0</td>\n",
       "      <td>0</td>\n",
       "      <td>1</td>\n",
       "    </tr>\n",
       "  </tbody>\n",
       "</table>\n",
       "<p>5 rows × 48 columns</p>\n",
       "</div>"
      ],
      "text/plain": [
       "    Price  transfer_year  high_season  Old_New_New Build  Old_New_Resale  \\\n",
       "0   48000           1995            0                  0               1   \n",
       "1  115000           1995            0                  0               1   \n",
       "2  102500           1995            1                  0               1   \n",
       "3   53000           1995            0                  0               1   \n",
       "4   45000           1995            0                  0               1   \n",
       "\n",
       "   postcode_four_char_BN11  postcode_four_char_BN12  postcode_four_char_BN14  \\\n",
       "0                        0                        0                        0   \n",
       "1                        0                        0                        0   \n",
       "2                        0                        0                        0   \n",
       "3                        0                        0                        0   \n",
       "4                        0                        0                        0   \n",
       "\n",
       "   postcode_four_char_BN15  postcode_four_char_BN16           ...            \\\n",
       "0                        0                        0           ...             \n",
       "1                        0                        0           ...             \n",
       "2                        0                        0           ...             \n",
       "3                        0                        0           ...             \n",
       "4                        0                        0           ...             \n",
       "\n",
       "   postcode_four_char_RH19  postcode_four_char_RH20  postcode_four_char_SO50  \\\n",
       "0                        0                        0                        0   \n",
       "1                        0                        0                        0   \n",
       "2                        0                        0                        0   \n",
       "3                        0                        0                        0   \n",
       "4                        0                        0                        0   \n",
       "\n",
       "   Duration_Freehold  Duration_Leasehold  Property_Type_Apartment  \\\n",
       "0                  0                   1                        1   \n",
       "1                  0                   1                        1   \n",
       "2                  1                   0                        0   \n",
       "3                  1                   0                        0   \n",
       "4                  1                   0                        0   \n",
       "\n",
       "   Property_Type_Detached  Property_Type_Other  Property_Type_Semi-Detached  \\\n",
       "0                       0                    0                            0   \n",
       "1                       0                    0                            0   \n",
       "2                       1                    0                            0   \n",
       "3                       0                    0                            0   \n",
       "4                       0                    0                            0   \n",
       "\n",
       "   Property_Type_Terraced  \n",
       "0                       0  \n",
       "1                       0  \n",
       "2                       0  \n",
       "3                       1  \n",
       "4                       1  \n",
       "\n",
       "[5 rows x 48 columns]"
      ]
     },
     "execution_count": 38,
     "metadata": {},
     "output_type": "execute_result"
    }
   ],
   "source": [
    "Data_dummy.head()"
   ]
  },
  {
   "cell_type": "code",
   "execution_count": 39,
   "metadata": {},
   "outputs": [
    {
     "data": {
      "text/plain": [
       "Index([u'Price', u'transfer_year', u'high_season', u'Old_New_New Build',\n",
       "       u'Old_New_Resale', u'postcode_four_char_BN11',\n",
       "       u'postcode_four_char_BN12', u'postcode_four_char_BN14',\n",
       "       u'postcode_four_char_BN15', u'postcode_four_char_BN16',\n",
       "       u'postcode_four_char_BN17', u'postcode_four_char_BN18',\n",
       "       u'postcode_four_char_BN20', u'postcode_four_char_BN41',\n",
       "       u'postcode_four_char_BN43', u'postcode_four_char_BN5',\n",
       "       u'postcode_four_char_BN6', u'postcode_four_char_GU26',\n",
       "       u'postcode_four_char_GU27', u'postcode_four_char_GU28',\n",
       "       u'postcode_four_char_GU29', u'postcode_four_char_GU30',\n",
       "       u'postcode_four_char_GU31', u'postcode_four_char_GU33',\n",
       "       u'postcode_four_char_GU6', u'postcode_four_char_GU8',\n",
       "       u'postcode_four_char_PO10', u'postcode_four_char_PO16',\n",
       "       u'postcode_four_char_PO18', u'postcode_four_char_PO19',\n",
       "       u'postcode_four_char_PO20', u'postcode_four_char_PO21',\n",
       "       u'postcode_four_char_PO22', u'postcode_four_char_PO9',\n",
       "       u'postcode_four_char_RH10', u'postcode_four_char_RH11',\n",
       "       u'postcode_four_char_RH13', u'postcode_four_char_RH14',\n",
       "       u'postcode_four_char_RH19', u'postcode_four_char_RH20',\n",
       "       u'postcode_four_char_SO50', u'Duration_Freehold', u'Duration_Leasehold',\n",
       "       u'Property_Type_Apartment', u'Property_Type_Detached',\n",
       "       u'Property_Type_Other', u'Property_Type_Semi-Detached',\n",
       "       u'Property_Type_Terraced'],\n",
       "      dtype='object')"
      ]
     },
     "execution_count": 39,
     "metadata": {},
     "output_type": "execute_result"
    }
   ],
   "source": [
    "Data_dummy.columns"
   ]
  },
  {
   "cell_type": "markdown",
   "metadata": {},
   "source": [
    "## Apply models"
   ]
  },
  {
   "cell_type": "code",
   "execution_count": 40,
   "metadata": {
    "collapsed": true
   },
   "outputs": [],
   "source": [
    "# standard scalar \n",
    "def scaling_data(data, cols): \n",
    "    \n",
    "    \"\"\"Scaling the data with standardscalar method. Input is data and columns.\n",
    "    Output is the dataframe of scaled data.\"\"\"\n",
    "    \n",
    "    data = data[cols]\n",
    "    scaler = StandardScaler()\n",
    "    scaler.fit(data)\n",
    "    data = scaler.transform(data)\n",
    "    Data = pd.DataFrame(data)\n",
    "    Data.columns = cols\n",
    "    return Data"
   ]
  },
  {
   "cell_type": "code",
   "execution_count": 41,
   "metadata": {},
   "outputs": [
    {
     "data": {
      "text/html": [
       "<div>\n",
       "<style>\n",
       "    .dataframe thead tr:only-child th {\n",
       "        text-align: right;\n",
       "    }\n",
       "\n",
       "    .dataframe thead th {\n",
       "        text-align: left;\n",
       "    }\n",
       "\n",
       "    .dataframe tbody tr th {\n",
       "        vertical-align: top;\n",
       "    }\n",
       "</style>\n",
       "<table border=\"1\" class=\"dataframe\">\n",
       "  <thead>\n",
       "    <tr style=\"text-align: right;\">\n",
       "      <th></th>\n",
       "      <th>Price</th>\n",
       "      <th>transfer_year</th>\n",
       "      <th>high_season</th>\n",
       "      <th>Old_New_New Build</th>\n",
       "      <th>Old_New_Resale</th>\n",
       "      <th>postcode_four_char_BN11</th>\n",
       "      <th>postcode_four_char_BN12</th>\n",
       "      <th>postcode_four_char_BN14</th>\n",
       "      <th>postcode_four_char_BN15</th>\n",
       "      <th>postcode_four_char_BN16</th>\n",
       "      <th>...</th>\n",
       "      <th>postcode_four_char_RH19</th>\n",
       "      <th>postcode_four_char_RH20</th>\n",
       "      <th>postcode_four_char_SO50</th>\n",
       "      <th>Duration_Freehold</th>\n",
       "      <th>Duration_Leasehold</th>\n",
       "      <th>Property_Type_Apartment</th>\n",
       "      <th>Property_Type_Detached</th>\n",
       "      <th>Property_Type_Other</th>\n",
       "      <th>Property_Type_Semi-Detached</th>\n",
       "      <th>Property_Type_Terraced</th>\n",
       "    </tr>\n",
       "  </thead>\n",
       "  <tbody>\n",
       "    <tr>\n",
       "      <th>0</th>\n",
       "      <td>-0.703051</td>\n",
       "      <td>-1.616344</td>\n",
       "      <td>-0.636541</td>\n",
       "      <td>-0.333785</td>\n",
       "      <td>0.333785</td>\n",
       "      <td>-0.006149</td>\n",
       "      <td>-0.004348</td>\n",
       "      <td>-0.007531</td>\n",
       "      <td>-0.004348</td>\n",
       "      <td>-0.006149</td>\n",
       "      <td>...</td>\n",
       "      <td>-0.007531</td>\n",
       "      <td>-0.11919</td>\n",
       "      <td>-0.004348</td>\n",
       "      <td>-2.180192</td>\n",
       "      <td>2.180192</td>\n",
       "      <td>2.278031</td>\n",
       "      <td>-0.771293</td>\n",
       "      <td>-0.094272</td>\n",
       "      <td>-0.552127</td>\n",
       "      <td>-0.535727</td>\n",
       "    </tr>\n",
       "    <tr>\n",
       "      <th>1</th>\n",
       "      <td>-0.496602</td>\n",
       "      <td>-1.616344</td>\n",
       "      <td>-0.636541</td>\n",
       "      <td>-0.333785</td>\n",
       "      <td>0.333785</td>\n",
       "      <td>-0.006149</td>\n",
       "      <td>-0.004348</td>\n",
       "      <td>-0.007531</td>\n",
       "      <td>-0.004348</td>\n",
       "      <td>-0.006149</td>\n",
       "      <td>...</td>\n",
       "      <td>-0.007531</td>\n",
       "      <td>-0.11919</td>\n",
       "      <td>-0.004348</td>\n",
       "      <td>-2.180192</td>\n",
       "      <td>2.180192</td>\n",
       "      <td>2.278031</td>\n",
       "      <td>-0.771293</td>\n",
       "      <td>-0.094272</td>\n",
       "      <td>-0.552127</td>\n",
       "      <td>-0.535727</td>\n",
       "    </tr>\n",
       "    <tr>\n",
       "      <th>2</th>\n",
       "      <td>-0.535118</td>\n",
       "      <td>-1.616344</td>\n",
       "      <td>1.570990</td>\n",
       "      <td>-0.333785</td>\n",
       "      <td>0.333785</td>\n",
       "      <td>-0.006149</td>\n",
       "      <td>-0.004348</td>\n",
       "      <td>-0.007531</td>\n",
       "      <td>-0.004348</td>\n",
       "      <td>-0.006149</td>\n",
       "      <td>...</td>\n",
       "      <td>-0.007531</td>\n",
       "      <td>-0.11919</td>\n",
       "      <td>-0.004348</td>\n",
       "      <td>0.458675</td>\n",
       "      <td>-0.458675</td>\n",
       "      <td>-0.438976</td>\n",
       "      <td>1.296524</td>\n",
       "      <td>-0.094272</td>\n",
       "      <td>-0.552127</td>\n",
       "      <td>-0.535727</td>\n",
       "    </tr>\n",
       "    <tr>\n",
       "      <th>3</th>\n",
       "      <td>-0.687645</td>\n",
       "      <td>-1.616344</td>\n",
       "      <td>-0.636541</td>\n",
       "      <td>-0.333785</td>\n",
       "      <td>0.333785</td>\n",
       "      <td>-0.006149</td>\n",
       "      <td>-0.004348</td>\n",
       "      <td>-0.007531</td>\n",
       "      <td>-0.004348</td>\n",
       "      <td>-0.006149</td>\n",
       "      <td>...</td>\n",
       "      <td>-0.007531</td>\n",
       "      <td>-0.11919</td>\n",
       "      <td>-0.004348</td>\n",
       "      <td>0.458675</td>\n",
       "      <td>-0.458675</td>\n",
       "      <td>-0.438976</td>\n",
       "      <td>-0.771293</td>\n",
       "      <td>-0.094272</td>\n",
       "      <td>-0.552127</td>\n",
       "      <td>1.866621</td>\n",
       "    </tr>\n",
       "    <tr>\n",
       "      <th>4</th>\n",
       "      <td>-0.712296</td>\n",
       "      <td>-1.616344</td>\n",
       "      <td>-0.636541</td>\n",
       "      <td>-0.333785</td>\n",
       "      <td>0.333785</td>\n",
       "      <td>-0.006149</td>\n",
       "      <td>-0.004348</td>\n",
       "      <td>-0.007531</td>\n",
       "      <td>-0.004348</td>\n",
       "      <td>-0.006149</td>\n",
       "      <td>...</td>\n",
       "      <td>-0.007531</td>\n",
       "      <td>-0.11919</td>\n",
       "      <td>-0.004348</td>\n",
       "      <td>0.458675</td>\n",
       "      <td>-0.458675</td>\n",
       "      <td>-0.438976</td>\n",
       "      <td>-0.771293</td>\n",
       "      <td>-0.094272</td>\n",
       "      <td>-0.552127</td>\n",
       "      <td>1.866621</td>\n",
       "    </tr>\n",
       "  </tbody>\n",
       "</table>\n",
       "<p>5 rows × 48 columns</p>\n",
       "</div>"
      ],
      "text/plain": [
       "      Price  transfer_year  high_season  Old_New_New Build  Old_New_Resale  \\\n",
       "0 -0.703051      -1.616344    -0.636541          -0.333785        0.333785   \n",
       "1 -0.496602      -1.616344    -0.636541          -0.333785        0.333785   \n",
       "2 -0.535118      -1.616344     1.570990          -0.333785        0.333785   \n",
       "3 -0.687645      -1.616344    -0.636541          -0.333785        0.333785   \n",
       "4 -0.712296      -1.616344    -0.636541          -0.333785        0.333785   \n",
       "\n",
       "   postcode_four_char_BN11  postcode_four_char_BN12  postcode_four_char_BN14  \\\n",
       "0                -0.006149                -0.004348                -0.007531   \n",
       "1                -0.006149                -0.004348                -0.007531   \n",
       "2                -0.006149                -0.004348                -0.007531   \n",
       "3                -0.006149                -0.004348                -0.007531   \n",
       "4                -0.006149                -0.004348                -0.007531   \n",
       "\n",
       "   postcode_four_char_BN15  postcode_four_char_BN16           ...            \\\n",
       "0                -0.004348                -0.006149           ...             \n",
       "1                -0.004348                -0.006149           ...             \n",
       "2                -0.004348                -0.006149           ...             \n",
       "3                -0.004348                -0.006149           ...             \n",
       "4                -0.004348                -0.006149           ...             \n",
       "\n",
       "   postcode_four_char_RH19  postcode_four_char_RH20  postcode_four_char_SO50  \\\n",
       "0                -0.007531                 -0.11919                -0.004348   \n",
       "1                -0.007531                 -0.11919                -0.004348   \n",
       "2                -0.007531                 -0.11919                -0.004348   \n",
       "3                -0.007531                 -0.11919                -0.004348   \n",
       "4                -0.007531                 -0.11919                -0.004348   \n",
       "\n",
       "   Duration_Freehold  Duration_Leasehold  Property_Type_Apartment  \\\n",
       "0          -2.180192            2.180192                 2.278031   \n",
       "1          -2.180192            2.180192                 2.278031   \n",
       "2           0.458675           -0.458675                -0.438976   \n",
       "3           0.458675           -0.458675                -0.438976   \n",
       "4           0.458675           -0.458675                -0.438976   \n",
       "\n",
       "   Property_Type_Detached  Property_Type_Other  Property_Type_Semi-Detached  \\\n",
       "0               -0.771293            -0.094272                    -0.552127   \n",
       "1               -0.771293            -0.094272                    -0.552127   \n",
       "2                1.296524            -0.094272                    -0.552127   \n",
       "3               -0.771293            -0.094272                    -0.552127   \n",
       "4               -0.771293            -0.094272                    -0.552127   \n",
       "\n",
       "   Property_Type_Terraced  \n",
       "0               -0.535727  \n",
       "1               -0.535727  \n",
       "2               -0.535727  \n",
       "3                1.866621  \n",
       "4                1.866621  \n",
       "\n",
       "[5 rows x 48 columns]"
      ]
     },
     "execution_count": 41,
     "metadata": {},
     "output_type": "execute_result"
    }
   ],
   "source": [
    "all_cols = Data_dummy.columns\n",
    "Data_dummy_all = scaling_data(Data_dummy, all_cols)\n",
    "Data_dummy_all.head()"
   ]
  },
  {
   "cell_type": "code",
   "execution_count": 42,
   "metadata": {},
   "outputs": [],
   "source": [
    "X = Data_dummy_all[Data_dummy_all.columns.difference(['Price'])]\n",
    "y = Data_dummy_all['Price']\n",
    "X_train, X_test, y_train, y_test = cross_validation.train_test_split(X, y ,test_size=0.2)"
   ]
  },
  {
   "cell_type": "code",
   "execution_count": 52,
   "metadata": {
    "collapsed": true
   },
   "outputs": [],
   "source": [
    "best_alpha = 0.0099\n",
    "regr = Lasso(alpha=best_alpha, max_iter=50000)\n",
    "regr2 = ElasticNet(alpha=0.001)\n",
    "regr3 = RandomForestRegressor( n_estimators = 600, max_depth=10, min_samples_split = 10, random_state=42)\n",
    "GBoost = GradientBoostingRegressor(n_estimators=600, min_samples_split=10,  random_state =5)\n",
    "model_lgb = lgb.LGBMRegressor(objective='regression', n_estimators=600)"
   ]
  },
  {
   "cell_type": "code",
   "execution_count": 44,
   "metadata": {
    "collapsed": true
   },
   "outputs": [],
   "source": [
    "def rmse(y_true, y_pred):\n",
    "    \n",
    "    \"\"\"Calculating the root mean squared error. Input is predicted and true value. \n",
    "    Output is the RMSE value.\"\"\"\n",
    "    \n",
    "    return np.sqrt(mean_squared_error(y_true, y_pred))"
   ]
  },
  {
   "cell_type": "code",
   "execution_count": 45,
   "metadata": {
    "collapsed": true
   },
   "outputs": [],
   "source": [
    "def model_Evaluation(model, x, y):\n",
    "    \n",
    "    \"\"\"It takes the model, train and test data. Then fits the data and calculates the prediction and RMSE.\n",
    "    Output is the mean RMSE of for the model.\"\"\"\n",
    "    \n",
    "    n_splits_val = 5\n",
    "    kf = KFold(n_splits=n_splits_val, shuffle=False)\n",
    "    idx = 0\n",
    "    rmse_buf = np.empty(n_splits_val)\n",
    "    for train, test in kf.split(x):\n",
    "        model.fit(x.iloc[train], y.iloc[train])\n",
    "        y_cv = model.predict(x.iloc[test])\n",
    "        rmse_buf[idx] = rmse(y.iloc[test], y_cv)\n",
    "        idx += 1\n",
    "\n",
    "    mean_rmse = np.mean(rmse_buf)\n",
    "    print('Mean RMSE = %f' % mean_rmse)\n",
    "    return mean_rmse\n"
   ]
  },
  {
   "cell_type": "code",
   "execution_count": 87,
   "metadata": {},
   "outputs": [
    {
     "name": "stdout",
     "output_type": "stream",
     "text": [
      "Mean RMSE = 0.741212\n"
     ]
    },
    {
     "data": {
      "text/plain": [
       "0.74121188870930454"
      ]
     },
     "execution_count": 87,
     "metadata": {},
     "output_type": "execute_result"
    }
   ],
   "source": [
    "model_Evaluation(regr, X, y)"
   ]
  },
  {
   "cell_type": "markdown",
   "metadata": {},
   "source": [
    "** When we added all the columns like 'Price', 'Old_New', 'postcode_four_char', 'Duration', 'Property_Type', 'transfer_year', 'high_season'. We got RMSE of 0.7412 with LASSO**"
   ]
  },
  {
   "cell_type": "code",
   "execution_count": 92,
   "metadata": {},
   "outputs": [
    {
     "name": "stdout",
     "output_type": "stream",
     "text": [
      "Mean RMSE = 0.741388\n"
     ]
    },
    {
     "data": {
      "text/plain": [
       "0.74138796742545976"
      ]
     },
     "execution_count": 92,
     "metadata": {},
     "output_type": "execute_result"
    }
   ],
   "source": [
    "model_Evaluation(regr2, X, y)"
   ]
  },
  {
   "cell_type": "markdown",
   "metadata": {},
   "source": [
    "** We applied Elastic Net for the same above data and got RMSE of 0.74138. So, it is similar to LASSO.**"
   ]
  },
  {
   "cell_type": "code",
   "execution_count": 94,
   "metadata": {},
   "outputs": [
    {
     "name": "stdout",
     "output_type": "stream",
     "text": [
      "Mean RMSE = 0.725732\n"
     ]
    },
    {
     "data": {
      "text/plain": [
       "0.72573194270638908"
      ]
     },
     "execution_count": 94,
     "metadata": {},
     "output_type": "execute_result"
    }
   ],
   "source": [
    "model_Evaluation(regr3, X, y)"
   ]
  },
  {
   "cell_type": "markdown",
   "metadata": {},
   "source": [
    "** when we applied RandomForestRegressor it gave RMSE of 0.72573 on the same above data. This is better than LASSO and Elastic NEt. **"
   ]
  },
  {
   "cell_type": "code",
   "execution_count": 48,
   "metadata": {},
   "outputs": [
    {
     "name": "stdout",
     "output_type": "stream",
     "text": [
      "Mean RMSE = 0.721770\n"
     ]
    },
    {
     "data": {
      "text/plain": [
       "0.72176980536773494"
      ]
     },
     "execution_count": 48,
     "metadata": {},
     "output_type": "execute_result"
    }
   ],
   "source": [
    "model_Evaluation(GBoost, X, y)"
   ]
  },
  {
   "cell_type": "markdown",
   "metadata": {},
   "source": [
    "** when we applied GradientBoostingRegressor it gave RMSE of  0.72176 on the same above data. This is similar to RandomForestRegressor. **"
   ]
  },
  {
   "cell_type": "code",
   "execution_count": 53,
   "metadata": {},
   "outputs": [
    {
     "name": "stdout",
     "output_type": "stream",
     "text": [
      "Mean RMSE = 0.720200\n"
     ]
    },
    {
     "data": {
      "text/plain": [
       "0.72020005067115755"
      ]
     },
     "execution_count": 53,
     "metadata": {},
     "output_type": "execute_result"
    }
   ],
   "source": [
    "model_Evaluation(model_lgb, X, y)"
   ]
  },
  {
   "cell_type": "markdown",
   "metadata": {},
   "source": [
    "** when we applied LightGBM it gave RMSE of 0.7202 on the same above data.**"
   ]
  },
  {
   "cell_type": "markdown",
   "metadata": {},
   "source": [
    "**When we remove some columns and check how this will improve our model performance.**"
   ]
  },
  {
   "cell_type": "code",
   "execution_count": 57,
   "metadata": {
    "collapsed": true
   },
   "outputs": [],
   "source": [
    "cols = ['Price', 'Property_Type', 'transfer_year', 'high_season']\n",
    "Data_dummy = Data[cols]\n",
    "Data_dummy = pd.get_dummies(Data_dummy)\n",
    "# scaling this data\n",
    "all_cols = Data_dummy.columns\n",
    "Data_dummy_all = scaling_data(Data_dummy, all_cols)\n",
    "Data_dummy_all.head()\n",
    "X = Data_dummy_all[Data_dummy_all.columns.difference(['Price'])]\n",
    "y = Data_dummy_all['Price']\n",
    "X_train, X_test, y_train, y_test = cross_validation.train_test_split(X, y ,test_size=0.2)"
   ]
  },
  {
   "cell_type": "code",
   "execution_count": 61,
   "metadata": {},
   "outputs": [
    {
     "name": "stdout",
     "output_type": "stream",
     "text": [
      "Mean RMSE = 0.756353\n",
      "('LASSO RMSE = ', 0.75635262489992861)\n",
      "Mean RMSE = 0.755629\n",
      "('Elastic Net RMSE = ', 0.75562881557245853)\n",
      "Mean RMSE = 0.742629\n",
      "('RandomForestRegressor RMSE = ', 0.74262854140182322)\n",
      "Mean RMSE = 0.742107\n",
      "('GradientBoostingRegressor RMSE = ', 0.74210708228300537)\n",
      "Mean RMSE = 0.741132\n",
      "('light gbm RMSE = ', 0.74113235835642777)\n"
     ]
    }
   ],
   "source": [
    "print('LASSO RMSE = ', model_Evaluation(regr, X, y))\n",
    "print('Elastic Net RMSE = ', model_Evaluation(regr2, X, y))\n",
    "print('RandomForestRegressor RMSE = ', model_Evaluation(regr3, X, y))\n",
    "print('GradientBoostingRegressor RMSE = ', model_Evaluation(GBoost, X, y))\n",
    "print('light gbm RMSE = ', model_Evaluation(model_lgb, X, y))"
   ]
  },
  {
   "cell_type": "markdown",
   "metadata": {},
   "source": [
    "** Lets check with by adding feature postcode_four_char feature ** "
   ]
  },
  {
   "cell_type": "code",
   "execution_count": 62,
   "metadata": {
    "collapsed": true
   },
   "outputs": [],
   "source": [
    "cols = ['Price', 'postcode_four_char', 'Property_Type', 'transfer_year', 'high_season']\n",
    "Data_dummy = Data[cols]\n",
    "Data_dummy = pd.get_dummies(Data_dummy)\n",
    "# scaling this data\n",
    "all_cols = Data_dummy.columns\n",
    "Data_dummy_all = scaling_data(Data_dummy, all_cols)\n",
    "Data_dummy_all.head()\n",
    "X = Data_dummy_all[Data_dummy_all.columns.difference(['Price'])]\n",
    "y = Data_dummy_all['Price']\n",
    "X_train, X_test, y_train, y_test = cross_validation.train_test_split(X, y ,test_size=0.2)"
   ]
  },
  {
   "cell_type": "code",
   "execution_count": 63,
   "metadata": {},
   "outputs": [
    {
     "name": "stdout",
     "output_type": "stream",
     "text": [
      "Mean RMSE = 0.740995\n",
      "('LASSO RMSE = ', 0.74099469653969519)\n",
      "Mean RMSE = 0.740668\n",
      "('Elastic Net RMSE = ', 0.74066761020876948)\n",
      "Mean RMSE = 0.724330\n",
      "('RandomForestRegressor RMSE = ', 0.72433045505398463)\n",
      "Mean RMSE = 0.720950\n",
      "('GradientBoostingRegressor RMSE = ', 0.72095035057284185)\n",
      "Mean RMSE = 0.720055\n",
      "('light gbm RMSE = ', 0.72005502857512371)\n"
     ]
    }
   ],
   "source": [
    "print('LASSO RMSE = ', model_Evaluation(regr, X, y))\n",
    "print('Elastic Net RMSE = ', model_Evaluation(regr2, X, y))\n",
    "print('RandomForestRegressor RMSE = ', model_Evaluation(regr3, X, y))\n",
    "print('GradientBoostingRegressor RMSE = ', model_Evaluation(GBoost, X, y))\n",
    "print('light gbm RMSE = ', model_Evaluation(model_lgb, X, y))"
   ]
  },
  {
   "cell_type": "markdown",
   "metadata": {},
   "source": [
    "** We see that if we use 'Price', 'postcode_four_char', 'Property_Type', 'transfer_year', 'high_season' which gives better model than \n",
    "'Price', 'Property_Type', 'transfer_year', 'high_season' this columns.**"
   ]
  },
  {
   "cell_type": "markdown",
   "metadata": {},
   "source": [
    "**When we apply log to the price that we have we can check how performance will improve**"
   ]
  },
  {
   "cell_type": "code",
   "execution_count": 65,
   "metadata": {},
   "outputs": [
    {
     "data": {
      "image/png": "[encoded data removed]",
      "text/plain": [
       "<matplotlib.figure.Figure at 0x13563080>"
      ]
     },
     "metadata": {},
     "output_type": "display_data"
    }
   ],
   "source": [
    "fig = plt.figure()\n",
    "res = stats.probplot(Data['Price'], plot=plt)\n",
    "plt.show()"
   ]
  },
  {
   "cell_type": "markdown",
   "metadata": {},
   "source": [
    "** Original price distribution **"
   ]
  },
  {
   "cell_type": "code",
   "execution_count": 69,
   "metadata": {},
   "outputs": [
    {
     "data": {
      "image/png": "[encoded data removed]",
      "text/plain": [
       "<matplotlib.figure.Figure at 0x15c332b0>"
      ]
     },
     "metadata": {},
     "output_type": "display_data"
    }
   ],
   "source": [
    "fig = plt.figure()\n",
    "res = stats.probplot(np.log1p(y_train), plot=plt)\n",
    "plt.show()"
   ]
  },
  {
   "cell_type": "markdown",
   "metadata": {},
   "source": [
    "** Transforming to log distribution by applying log to the price value. **"
   ]
  },
  {
   "cell_type": "code",
   "execution_count": 84,
   "metadata": {
    "collapsed": true
   },
   "outputs": [],
   "source": [
    "def model_Evaluation1(model, X_train, y_train, X_test, y_test):\n",
    "    model.fit(X_train, np.log1p(y_train))\n",
    "    y_cv = model.predict(X_test)\n",
    "    return rmse(y_test, y_cv)"
   ]
  },
  {
   "cell_type": "code",
   "execution_count": 85,
   "metadata": {},
   "outputs": [
    {
     "name": "stdout",
     "output_type": "stream",
     "text": [
      "('LASSO RMSE = ', 0.68472929567912799)\n",
      "('Elastic Net RMSE = ', 0.681781025193677)\n",
      "('RandomForestRegressor RMSE = ', 0.67224979268307938)\n",
      "('GradientBoostingRegressor RMSE = ', 0.67118130810055454)\n",
      "('light gbm RMSE = ', 0.67210567560957446)\n"
     ]
    }
   ],
   "source": [
    "print('LASSO RMSE = ', model_Evaluation1(regr, X_train, y_train, X_test, y_test))\n",
    "print('Elastic Net RMSE = ', model_Evaluation1(regr2, X_train, y_train, X_test, y_test))\n",
    "print('RandomForestRegressor RMSE = ', model_Evaluation1(regr3, X_train, y_train, X_test, y_test))\n",
    "print('GradientBoostingRegressor RMSE = ', model_Evaluation1(GBoost, X_train, y_train, X_test, y_test))\n",
    "print('light gbm RMSE = ', model_Evaluation1(model_lgb, X_train, y_train, X_test, y_test))"
   ]
  },
  {
   "cell_type": "markdown",
   "metadata": {},
   "source": [
    "** Above result is shown when we apply log transformation on the price. This result is better than all we had earlier.**"
   ]
  },
  {
   "cell_type": "markdown",
   "metadata": {},
   "source": [
    "**If we add data of school ratings in the given postcode areas. we want to check performance of model**"
   ]
  },
  {
   "cell_type": "code",
   "execution_count": 99,
   "metadata": {},
   "outputs": [
    {
     "data": {
      "text/html": [
       "<div>\n",
       "<style>\n",
       "    .dataframe thead tr:only-child th {\n",
       "        text-align: right;\n",
       "    }\n",
       "\n",
       "    .dataframe thead th {\n",
       "        text-align: left;\n",
       "    }\n",
       "\n",
       "    .dataframe tbody tr th {\n",
       "        vertical-align: top;\n",
       "    }\n",
       "</style>\n",
       "<table border=\"1\" class=\"dataframe\">\n",
       "  <thead>\n",
       "    <tr style=\"text-align: right;\">\n",
       "      <th></th>\n",
       "      <th>Price</th>\n",
       "      <th>postcode_four_char</th>\n",
       "      <th>Property_Type</th>\n",
       "      <th>transfer_year</th>\n",
       "      <th>high_season</th>\n",
       "      <th>School_rating</th>\n",
       "    </tr>\n",
       "  </thead>\n",
       "  <tbody>\n",
       "    <tr>\n",
       "      <th>0</th>\n",
       "      <td>48000</td>\n",
       "      <td>GU29</td>\n",
       "      <td>Apartment</td>\n",
       "      <td>1995</td>\n",
       "      <td>0</td>\n",
       "      <td>5.0</td>\n",
       "    </tr>\n",
       "    <tr>\n",
       "      <th>1</th>\n",
       "      <td>380000</td>\n",
       "      <td>GU29</td>\n",
       "      <td>Detached</td>\n",
       "      <td>1995</td>\n",
       "      <td>1</td>\n",
       "      <td>5.0</td>\n",
       "    </tr>\n",
       "    <tr>\n",
       "      <th>2</th>\n",
       "      <td>47750</td>\n",
       "      <td>GU29</td>\n",
       "      <td>Apartment</td>\n",
       "      <td>1995</td>\n",
       "      <td>0</td>\n",
       "      <td>5.0</td>\n",
       "    </tr>\n",
       "    <tr>\n",
       "      <th>3</th>\n",
       "      <td>52000</td>\n",
       "      <td>GU29</td>\n",
       "      <td>Apartment</td>\n",
       "      <td>1995</td>\n",
       "      <td>1</td>\n",
       "      <td>5.0</td>\n",
       "    </tr>\n",
       "    <tr>\n",
       "      <th>4</th>\n",
       "      <td>73000</td>\n",
       "      <td>GU29</td>\n",
       "      <td>Terraced</td>\n",
       "      <td>1995</td>\n",
       "      <td>0</td>\n",
       "      <td>5.0</td>\n",
       "    </tr>\n",
       "  </tbody>\n",
       "</table>\n",
       "</div>"
      ],
      "text/plain": [
       "    Price postcode_four_char Property_Type  transfer_year  high_season  \\\n",
       "0   48000               GU29     Apartment           1995            0   \n",
       "1  380000               GU29      Detached           1995            1   \n",
       "2   47750               GU29     Apartment           1995            0   \n",
       "3   52000               GU29     Apartment           1995            1   \n",
       "4   73000               GU29      Terraced           1995            0   \n",
       "\n",
       "   School_rating  \n",
       "0            5.0  \n",
       "1            5.0  \n",
       "2            5.0  \n",
       "3            5.0  \n",
       "4            5.0  "
      ]
     },
     "execution_count": 99,
     "metadata": {},
     "output_type": "execute_result"
    }
   ],
   "source": [
    "school_rating = pd.read_csv('SchoolRating.csv', header = 0)\n",
    "Dataa = Data[['Price', 'postcode_four_char', 'Property_Type', 'transfer_year', 'high_season']]\n",
    "Dataa = pd.merge(Dataa, school_rating, on='postcode_four_char')\n",
    "Dataa.head()\n",
    "# Dataa.to_csv('school_included_data.csv')"
   ]
  },
  {
   "cell_type": "code",
   "execution_count": 102,
   "metadata": {},
   "outputs": [
    {
     "data": {
      "text/plain": [
       "(array([ 0,  1,  2,  3,  4,  5,  6,  7,  8,  9, 10, 11, 12, 13, 14, 15, 16,\n",
       "        17, 18, 19, 20, 21]), <a list of 22 Text xticklabel objects>)"
      ]
     },
     "execution_count": 102,
     "metadata": {},
     "output_type": "execute_result"
    }
   ],
   "source": [
    "data = pd.concat([Dataa['Price'], Dataa['School_rating']], axis=1)\n",
    "f, ax = plt.subplots(figsize=(16, 8))\n",
    "fig = sns.boxplot(x='School_rating', y=\"Price\", data=data)\n",
    "fig.axis(ymin=0, ymax=800000)\n",
    "plt.xticks(rotation=90)\n",
    "# plt.savefig('zoomed_school_rating.png')"
   ]
  },
  {
   "cell_type": "code",
   "execution_count": 103,
   "metadata": {},
   "outputs": [
    {
     "data": {
      "image/png": "[encoded data removed]",
      "text/plain": [
       "<matplotlib.figure.Figure at 0x122b65c0>"
      ]
     },
     "metadata": {},
     "output_type": "display_data"
    }
   ],
   "source": [
    "plt.show()"
   ]
  },
  {
   "cell_type": "code",
   "execution_count": 104,
   "metadata": {
    "collapsed": true
   },
   "outputs": [],
   "source": [
    "cols = ['Price', 'postcode_four_char', 'Property_Type', 'transfer_year', 'high_season', 'School_rating']\n",
    "Data_dummy = Dataa[cols]\n",
    "Data_dummy = pd.get_dummies(Data_dummy)\n",
    "# scaling this data\n",
    "all_cols = Data_dummy.columns\n",
    "Data_dummy_all = scaling_data(Data_dummy, all_cols)\n",
    "Data_dummy_all.head()\n",
    "X = Data_dummy_all[Data_dummy_all.columns.difference(['Price'])]\n",
    "y = Data_dummy_all['Price']\n",
    "X_train, X_test, y_train, y_test = cross_validation.train_test_split(X, y ,test_size=0.2)"
   ]
  },
  {
   "cell_type": "code",
   "execution_count": 108,
   "metadata": {},
   "outputs": [
    {
     "name": "stdout",
     "output_type": "stream",
     "text": [
      "('LASSO RMSE = ', 0.64941721512378592)\n",
      "('Elastic Net RMSE = ', 0.64657511479385588)\n",
      "('RandomForestRegressor RMSE = ', 0.63730412596019226)\n",
      "('GradientBoostingRegressor RMSE = ', 0.63702891936821748)\n",
      "('light gbm RMSE = ', 0.63926611078844364)\n"
     ]
    }
   ],
   "source": [
    "print('LASSO RMSE = ', model_Evaluation1(regr, X_train, y_train, X_test, y_test))\n",
    "print('Elastic Net RMSE = ', model_Evaluation1(regr2, X_train, y_train, X_test, y_test))\n",
    "print('RandomForestRegressor RMSE = ', model_Evaluation1(regr3, X_train, y_train, X_test, y_test))\n",
    "print('GradientBoostingRegressor RMSE = ', model_Evaluation1(GBoost, X_train, y_train, X_test, y_test))\n",
    "print('light gbm RMSE = ', model_Evaluation1(model_lgb, X_train, y_train, X_test, y_test))"
   ]
  },
  {
   "cell_type": "markdown",
   "metadata": {},
   "source": [
    "** when we add the parameter school rating, we see that there is improvement in the model performance. We can add parameters like number of stores nearby that postcode, population of that area/postcode which tells us about the house prices ** "
   ]
  },
  {
   "cell_type": "markdown",
   "metadata": {},
   "source": [
    "** We above created data which has no outliers for the price feature and we want to check the performance on this scenario, **"
   ]
  },
  {
   "cell_type": "code",
   "execution_count": 163,
   "metadata": {},
   "outputs": [
    {
     "data": {
      "text/plain": [
       "Index([u'Price', u'Property_Type', u'high_season', u'postcode_four_char',\n",
       "       u'transfer_year', u'School_rating'],\n",
       "      dtype='object')"
      ]
     },
     "execution_count": 163,
     "metadata": {},
     "output_type": "execute_result"
    }
   ],
   "source": [
    "school_rating = pd.read_csv('SchoolRating.csv', header = 0)\n",
    "outliers_removed_data = pd.read_csv('Data_outliers_removed.csv')\n",
    "outliers_removed_data = outliers_removed_data[['Price', 'Property_Type', 'high_season', 'postcode_four_char', 'transfer_year']]\n",
    "tt = pd.merge(outliers_removed_data, school_rating, on = 'postcode_four_char')\n",
    "tt.columns"
   ]
  },
  {
   "cell_type": "code",
   "execution_count": 169,
   "metadata": {},
   "outputs": [],
   "source": [
    "cols = tt.columns\n",
    "Data_dummy = tt[cols]\n",
    "Data_dummy = pd.get_dummies(Data_dummy)\n",
    "# Data_dummy.columns\n",
    "# scaling this data\n",
    "all_cols = Data_dummy.columns\n",
    "Data_dummy_all = scaling_data(Data_dummy, all_cols)\n",
    "Data_dummy_all.head()\n",
    "X = Data_dummy_all[Data_dummy_all.columns.difference(['Price'])]\n",
    "# X.columns\n",
    "y = Data_dummy_all['Price']\n",
    "X_train, X_test, y_train, y_test = cross_validation.train_test_split(X, y ,test_size=0.2)"
   ]
  },
  {
   "cell_type": "code",
   "execution_count": 185,
   "metadata": {},
   "outputs": [
    {
     "name": "stdout",
     "output_type": "stream",
     "text": [
      "Mean RMSE = 0.690611\n",
      "('LASSO RMSE = ', 0.69061098496526352)\n",
      "Mean RMSE = 0.689937\n",
      "('Elastic Net RMSE = ', 0.68993663709235142)\n",
      "Mean RMSE = 0.714813\n",
      "('RandomForestRegressor RMSE = ', 0.71481331370951595)\n",
      "Mean RMSE = 0.662584\n",
      "('GradientBoostingRegressor RMSE = ', 0.66258382525438386)\n",
      "Mean RMSE = 0.687357\n",
      "('light gbm RMSE = ', 0.68735677003002671)\n"
     ]
    }
   ],
   "source": [
    "print('LASSO RMSE = ', model_Evaluation(regr, X, y))\n",
    "print('Elastic Net RMSE = ', model_Evaluation(regr2, X, y))\n",
    "print('RandomForestRegressor RMSE = ', model_Evaluation(regr3,X, y))\n",
    "print('GradientBoostingRegressor RMSE = ', model_Evaluation(GBoost, X, y))\n",
    "print('light gbm RMSE = ', model_Evaluation(model_lgb, X, y))"
   ]
  },
  {
   "cell_type": "markdown",
   "metadata": {},
   "source": [
    "** As we see that the there is no performance improvement when we use data with outliers removed. **"
   ]
  },
  {
   "cell_type": "code",
   "execution_count": 680,
   "metadata": {
    "collapsed": true
   },
   "outputs": [],
   "source": [
    "X_train, X_test, y_train, y_test = cross_validation.train_test_split(X, y ,test_size=0.2)"
   ]
  },
  {
   "cell_type": "markdown",
   "metadata": {},
   "source": [
    "** Below method is used to get the best parameters require for random forest regressor model. We have used RandomizedSearchCV method **"
   ]
  },
  {
   "cell_type": "code",
   "execution_count": 692,
   "metadata": {
    "collapsed": true
   },
   "outputs": [],
   "source": [
    "from sklearn.model_selection import RandomizedSearchCV\n",
    "# Number of trees in random forest\n",
    "n_estimators = [int(x) for x in np.linspace(start = 200, stop = 2000, num = 10)]\n",
    "# Number of features to consider at every split\n",
    "max_features = ['sqrt']\n",
    "# Maximum number of levels in tree\n",
    "max_depth = [int(x) for x in np.linspace(10, 110, num = 11)]\n",
    "max_depth.append(None)\n",
    "# Minimum number of samples required to split a node\n",
    "min_samples_split = [2, 5, 10]\n",
    "# Create the random grid\n",
    "random_grid = {'n_estimators': n_estimators,\n",
    "               'max_features': max_features,\n",
    "               'max_depth': max_depth,\n",
    "               'min_samples_split': min_samples_split}\n"
   ]
  },
  {
   "cell_type": "code",
   "execution_count": 778,
   "metadata": {},
   "outputs": [
    {
     "name": "stdout",
     "output_type": "stream",
     "text": [
      "Fitting 3 folds for each of 100 candidates, totalling 300 fits\n"
     ]
    },
    {
     "name": "stderr",
     "output_type": "stream",
     "text": [
      "[Parallel(n_jobs=-1)]: Done  33 tasks      | elapsed:  7.6min\n",
      "[Parallel(n_jobs=-1)]: Done 154 tasks      | elapsed: 35.1min\n",
      "[Parallel(n_jobs=-1)]: Done 300 out of 300 | elapsed: 79.5min finished\n"
     ]
    },
    {
     "data": {
      "text/plain": [
       "RandomizedSearchCV(cv=3, error_score='raise',\n",
       "          estimator=RandomForestRegressor(bootstrap=True, criterion='mse', max_depth=None,\n",
       "           max_features='auto', max_leaf_nodes=None,\n",
       "           min_impurity_decrease=0.0, min_impurity_split=None,\n",
       "           min_samples_leaf=1, min_samples_split=2,\n",
       "           min_weight_fraction_leaf=0.0, n_estimators=10, n_jobs=1,\n",
       "           oob_score=False, random_state=None, verbose=0, warm_start=False),\n",
       "          fit_params=None, iid=True, n_iter=100, n_jobs=-1,\n",
       "          param_distributions={'n_estimators': [200, 400, 600, 800, 1000, 1200, 1400, 1600, 1800, 2000], 'max_features': ['sqrt'], 'min_samples_split': [2, 5, 10], 'max_depth': [10, 20, 30, 40, 50, 60, 70, 80, 90, 100, 110, None]},\n",
       "          pre_dispatch='2*n_jobs', random_state=42, refit=True,\n",
       "          return_train_score='warn', scoring=None, verbose=2)"
      ]
     },
     "execution_count": 778,
     "metadata": {},
     "output_type": "execute_result"
    }
   ],
   "source": [
    "# Use the random grid to search for best hyperparameters\n",
    "# First create the base model to tune\n",
    "rf = RandomForestRegressor()\n",
    "# Random search of parameters, using 3 fold cross validation, \n",
    "# search across 100 different combinations, and use all available cores\n",
    "rf_random = RandomizedSearchCV(estimator = rf, param_distributions = random_grid, n_iter = 100, cv = 3, verbose=2, random_state=42, n_jobs = -1)\n",
    "# Fit the random search model\n",
    "rf_random.fit(X_train, y_train)"
   ]
  },
  {
   "cell_type": "code",
   "execution_count": 784,
   "metadata": {},
   "outputs": [
    {
     "data": {
      "text/plain": [
       "{'max_depth': 10,\n",
       " 'max_features': 'sqrt',\n",
       " 'min_samples_split': 10,\n",
       " 'n_estimators': 600}"
      ]
     },
     "execution_count": 784,
     "metadata": {},
     "output_type": "execute_result"
    }
   ],
   "source": [
    "rf_random.best_params_"
   ]
  },
  {
   "cell_type": "markdown",
   "metadata": {},
   "source": [
    "** above are the best parameters and thier values to use for training the model **"
   ]
  },
  {
   "cell_type": "code",
   "execution_count": null,
   "metadata": {
    "collapsed": true
   },
   "outputs": [],
   "source": []
  }
 ],
 "metadata": {
  "kernelspec": {
   "display_name": "Python 2",
   "language": "python",
   "name": "python2"
  },
  "language_info": {
   "codemirror_mode": {
    "name": "ipython",
    "version": 2
   },
   "file_extension": ".py",
   "mimetype": "text/x-python",
   "name": "python",
   "nbconvert_exporter": "python",
   "pygments_lexer": "ipython2",
   "version": "2.7.14"
  }
 },
 "nbformat": 4,
 "nbformat_minor": 2
}
